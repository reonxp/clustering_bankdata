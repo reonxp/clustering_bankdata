{
  "nbformat": 4,
  "nbformat_minor": 0,
  "metadata": {
    "colab": {
      "provenance": []
    },
    "kernelspec": {
      "name": "python3",
      "display_name": "Python 3"
    },
    "language_info": {
      "name": "python"
    }
  },
  "cells": [
    {
      "cell_type": "markdown",
      "source": [
        "# **Penting**\n",
        "- Pastikan Anda melakukan Run All sebelum mengirimkan submission untuk memastikan seluruh cell berjalan dengan baik.\n",
        "- Hapus simbol pagar (#) jika Anda menerapkan kriteria tambahan\n",
        "- Biarkan simbol pagar (#) jika Anda tidak menerapkan kriteria tambahan"
      ],
      "metadata": {
        "id": "0tvAKGat01Sd"
      }
    },
    {
      "cell_type": "markdown",
      "source": [
        "# **INFORMASI DATASET**\n",
        "## Latar Belakang\n",
        "\n",
        "Dalam dunia bisnis ritel, pemahaman terhadap perilaku pelanggan menjadi salah satu faktor krusial dalam menentukan strategi pemasaran, peningkatan layanan, serta pengambilan keputusan berbasis data. Salah satu pendekatan yang umum digunakan untuk memahami perilaku pelanggan adalah melalui segmentasi, yaitu proses pengelompokan pelanggan ke dalam beberapa segmen atau kelompok berdasarkan karakteristik tertentu.\n",
        "\n",
        "Dengan menerapkan metode **unsupervised learning**, khususnya **clustering**, proyek ini bertujuan untuk membentuk segmentasi pelanggan yang merepresentasikan pola-pola pembelian yang serupa. Hasil segmentasi ini diharapkan dapat memberikan insight yang bernilai bagi pihak manajemen, khususnya dalam menyusun strategi promosi yang lebih tepat sasaran, mengembangkan program loyalitas, serta mengoptimalkan layanan pelanggan."
      ],
      "metadata": {
        "id": "sKi5D9qVVJvY"
      }
    },
    {
      "cell_type": "markdown",
      "source": [
        "# **1. Import Library**\n",
        "Pada tahap ini, Anda perlu mengimpor beberapa pustaka (library) Python yang dibutuhkan untuk analisis data dan pembangunan model machine learning. Semua library yang dibutuhkan harus **import** di **cell** ini, jika ada library yang dijalankan di cell lain maka **submission langsung ditolak**"
      ],
      "metadata": {
        "id": "fKADPWcFKlj3"
      }
    },
    {
      "cell_type": "code",
      "source": [
        "import pandas as pd  # Mengimpor pustaka pandas untuk manipulasi dan analisis data\n",
        "import matplotlib.pyplot as plt  # Mengimpor pustaka matplotlib untuk visualisasi grafik\n",
        "from yellowbrick.cluster import KElbowVisualizer  # Mengimpor KElbowVisualizer untuk visualisasi metode Elbow\n",
        "import matplotlib.pyplot as plt\n",
        "import seaborn as sns\n",
        "import numpy as np\n",
        "import joblib\n",
        "\n",
        "\n",
        "from sklearn.decomposition import PCA\n",
        "from sklearn.preprocessing import StandardScaler\n",
        "from sklearn.preprocessing import LabelEncoder\n",
        "from sklearn.cluster import KMeans, DBSCAN  # Mengimpor algoritma KMeans dan DBSCAN untuk clustering\n",
        "from sklearn.metrics import silhouette_score  # Mengimpor silhouette_score untuk mengevaluasi hasil clustering"
      ],
      "metadata": {
        "id": "BlmvjLY9M4Yj"
      },
      "execution_count": 185,
      "outputs": []
    },
    {
      "cell_type": "markdown",
      "source": [
        "# **2. Memuat Dataset**\n",
        "Pada tahap ini, Anda perlu memuat dataset ke dalam notebook lalu mengecek informasi dataset sebelum nantinya dilakukan pembersihan. Hal-hal yang perlu dilakukan pada tahapan ini yaitu:\n",
        "1. **Memahami Struktur Data**\n",
        "   - Dataset harus mengambil referensi wajib digunakan (bisa dilihat [Disini](https://drive.google.com/drive/folders/1Zs7VmPZ-jNwsRlMKH65Ea-LApSwx6lKx?usp=drive_link))\n",
        "   - Melakukan loading dataset ke dalam notebook dan menampilkan 10 baris pertama dengan function `head()`.\n",
        "   - Tinjau jumlah baris kolom dan jenis data dalam dataset dengan function `info()`.  \n",
        "   - Menampilkan statistik deskriptif dataset dengan menjalankan `describe()`.\n",
        "   - Pastikan **setiap function tersebut** memiliki **output pada setiap cell** code. Jika tidak **submission langsung ditolak**\n",
        "   "
      ],
      "metadata": {
        "id": "f3YIEnAFKrKL"
      }
    },
    {
      "cell_type": "markdown",
      "source": [
        "Gunakan code ini untuk melakukan load data secara otomatis tanpa harus download data tersebut secara manual:\n",
        "```python\n",
        "url='https://drive.google.com/uc?id=1gnLO9qvEPqv1uBt1928AcsCmdvzqjC5m'\n",
        "df = pd.read_csv(url)\n",
        "```"
      ],
      "metadata": {
        "id": "JgKXTwx2LMQA"
      }
    },
    {
      "cell_type": "code",
      "source": [
        "url='https://drive.google.com/uc?id=1gnLO9qvEPqv1uBt1928AcsCmdvzqjC5m'\n",
        "df = pd.read_csv(url)"
      ],
      "metadata": {
        "id": "UuejkFS5nUPb"
      },
      "execution_count": 226,
      "outputs": []
    },
    {
      "cell_type": "code",
      "source": [
        "# Tampilkan 10 baris pertama dengan function head.\n",
        "df.head(10)"
      ],
      "metadata": {
        "id": "GHCGNTyrM5fS",
        "colab": {
          "base_uri": "https://localhost:8080/",
          "height": 556
        },
        "outputId": "693a45ac-3b75-4103-d767-717a0608713f"
      },
      "execution_count": 227,
      "outputs": [
        {
          "output_type": "execute_result",
          "data": {
            "text/plain": [
              "  TransactionID AccountID  TransactionAmount      TransactionDate  \\\n",
              "0      TX000001   AC00128              14.09  2023-04-11 16:29:14   \n",
              "1      TX000002   AC00455             376.24  2023-06-27 16:44:19   \n",
              "2      TX000003   AC00019             126.29  2023-07-10 18:16:08   \n",
              "3      TX000004   AC00070             184.50  2023-05-05 16:32:11   \n",
              "4      TX000005   AC00411              13.45  2023-10-16 17:51:24   \n",
              "5      TX000006   AC00393              92.15  2023-04-03 17:15:01   \n",
              "6      TX000007   AC00199               7.08  2023-02-15 16:36:48   \n",
              "7      TX000008   AC00069             171.42  2023-05-08 17:47:59   \n",
              "8      TX000009   AC00135             106.23  2023-03-21 16:59:46   \n",
              "9      TX000010   AC00385             815.96  2023-03-31 16:06:57   \n",
              "\n",
              "  TransactionType       Location DeviceID       IP Address MerchantID Channel  \\\n",
              "0           Debit      San Diego  D000380   162.198.218.92       M015     ATM   \n",
              "1           Debit        Houston  D000051      13.149.61.4       M052     ATM   \n",
              "2           Debit           Mesa  D000235   215.97.143.157       M009  Online   \n",
              "3           Debit        Raleigh  D000187   200.13.225.150       M002  Online   \n",
              "4          Credit        Atlanta  D000308     65.164.3.100       M091  Online   \n",
              "5           Debit  Oklahoma City  D000579   117.67.192.211       M054     ATM   \n",
              "6          Credit        Seattle  D000241  140.212.253.222       M019     ATM   \n",
              "7          Credit   Indianapolis  D000500    92.214.76.157       M020  Branch   \n",
              "8          Credit        Detroit  D000690    24.148.92.177       M035  Branch   \n",
              "9           Debit      Nashville  D000199     32.169.88.41       M007     ATM   \n",
              "\n",
              "   CustomerAge CustomerOccupation  TransactionDuration  LoginAttempts  \\\n",
              "0         70.0             Doctor                 81.0            1.0   \n",
              "1         68.0             Doctor                141.0            1.0   \n",
              "2         19.0            Student                 56.0            1.0   \n",
              "3         26.0            Student                 25.0            1.0   \n",
              "4          NaN            Student                198.0            1.0   \n",
              "5         18.0            Student                172.0            1.0   \n",
              "6         37.0             Doctor                139.0            1.0   \n",
              "7         67.0            Retired                291.0            1.0   \n",
              "8         51.0           Engineer                 86.0            1.0   \n",
              "9         55.0             Doctor                120.0            1.0   \n",
              "\n",
              "   AccountBalance PreviousTransactionDate  \n",
              "0         5112.21     2024-11-04 08:08:08  \n",
              "1        13758.91     2024-11-04 08:09:35  \n",
              "2         1122.35     2024-11-04 08:07:04  \n",
              "3         8569.06     2024-11-04 08:09:06  \n",
              "4         7429.40     2024-11-04 08:06:39  \n",
              "5          781.68     2024-11-04 08:06:36  \n",
              "6        13316.71     2024-11-04 08:10:09  \n",
              "7         2796.24     2024-11-04 08:10:55  \n",
              "8         9095.14     2024-11-04 08:11:14  \n",
              "9         1021.88     2024-11-04 08:06:32  "
            ],
            "text/html": [
              "\n",
              "  <div id=\"df-b2c238cb-25f3-4b11-8291-acab7054e411\" class=\"colab-df-container\">\n",
              "    <div>\n",
              "<style scoped>\n",
              "    .dataframe tbody tr th:only-of-type {\n",
              "        vertical-align: middle;\n",
              "    }\n",
              "\n",
              "    .dataframe tbody tr th {\n",
              "        vertical-align: top;\n",
              "    }\n",
              "\n",
              "    .dataframe thead th {\n",
              "        text-align: right;\n",
              "    }\n",
              "</style>\n",
              "<table border=\"1\" class=\"dataframe\">\n",
              "  <thead>\n",
              "    <tr style=\"text-align: right;\">\n",
              "      <th></th>\n",
              "      <th>TransactionID</th>\n",
              "      <th>AccountID</th>\n",
              "      <th>TransactionAmount</th>\n",
              "      <th>TransactionDate</th>\n",
              "      <th>TransactionType</th>\n",
              "      <th>Location</th>\n",
              "      <th>DeviceID</th>\n",
              "      <th>IP Address</th>\n",
              "      <th>MerchantID</th>\n",
              "      <th>Channel</th>\n",
              "      <th>CustomerAge</th>\n",
              "      <th>CustomerOccupation</th>\n",
              "      <th>TransactionDuration</th>\n",
              "      <th>LoginAttempts</th>\n",
              "      <th>AccountBalance</th>\n",
              "      <th>PreviousTransactionDate</th>\n",
              "    </tr>\n",
              "  </thead>\n",
              "  <tbody>\n",
              "    <tr>\n",
              "      <th>0</th>\n",
              "      <td>TX000001</td>\n",
              "      <td>AC00128</td>\n",
              "      <td>14.09</td>\n",
              "      <td>2023-04-11 16:29:14</td>\n",
              "      <td>Debit</td>\n",
              "      <td>San Diego</td>\n",
              "      <td>D000380</td>\n",
              "      <td>162.198.218.92</td>\n",
              "      <td>M015</td>\n",
              "      <td>ATM</td>\n",
              "      <td>70.0</td>\n",
              "      <td>Doctor</td>\n",
              "      <td>81.0</td>\n",
              "      <td>1.0</td>\n",
              "      <td>5112.21</td>\n",
              "      <td>2024-11-04 08:08:08</td>\n",
              "    </tr>\n",
              "    <tr>\n",
              "      <th>1</th>\n",
              "      <td>TX000002</td>\n",
              "      <td>AC00455</td>\n",
              "      <td>376.24</td>\n",
              "      <td>2023-06-27 16:44:19</td>\n",
              "      <td>Debit</td>\n",
              "      <td>Houston</td>\n",
              "      <td>D000051</td>\n",
              "      <td>13.149.61.4</td>\n",
              "      <td>M052</td>\n",
              "      <td>ATM</td>\n",
              "      <td>68.0</td>\n",
              "      <td>Doctor</td>\n",
              "      <td>141.0</td>\n",
              "      <td>1.0</td>\n",
              "      <td>13758.91</td>\n",
              "      <td>2024-11-04 08:09:35</td>\n",
              "    </tr>\n",
              "    <tr>\n",
              "      <th>2</th>\n",
              "      <td>TX000003</td>\n",
              "      <td>AC00019</td>\n",
              "      <td>126.29</td>\n",
              "      <td>2023-07-10 18:16:08</td>\n",
              "      <td>Debit</td>\n",
              "      <td>Mesa</td>\n",
              "      <td>D000235</td>\n",
              "      <td>215.97.143.157</td>\n",
              "      <td>M009</td>\n",
              "      <td>Online</td>\n",
              "      <td>19.0</td>\n",
              "      <td>Student</td>\n",
              "      <td>56.0</td>\n",
              "      <td>1.0</td>\n",
              "      <td>1122.35</td>\n",
              "      <td>2024-11-04 08:07:04</td>\n",
              "    </tr>\n",
              "    <tr>\n",
              "      <th>3</th>\n",
              "      <td>TX000004</td>\n",
              "      <td>AC00070</td>\n",
              "      <td>184.50</td>\n",
              "      <td>2023-05-05 16:32:11</td>\n",
              "      <td>Debit</td>\n",
              "      <td>Raleigh</td>\n",
              "      <td>D000187</td>\n",
              "      <td>200.13.225.150</td>\n",
              "      <td>M002</td>\n",
              "      <td>Online</td>\n",
              "      <td>26.0</td>\n",
              "      <td>Student</td>\n",
              "      <td>25.0</td>\n",
              "      <td>1.0</td>\n",
              "      <td>8569.06</td>\n",
              "      <td>2024-11-04 08:09:06</td>\n",
              "    </tr>\n",
              "    <tr>\n",
              "      <th>4</th>\n",
              "      <td>TX000005</td>\n",
              "      <td>AC00411</td>\n",
              "      <td>13.45</td>\n",
              "      <td>2023-10-16 17:51:24</td>\n",
              "      <td>Credit</td>\n",
              "      <td>Atlanta</td>\n",
              "      <td>D000308</td>\n",
              "      <td>65.164.3.100</td>\n",
              "      <td>M091</td>\n",
              "      <td>Online</td>\n",
              "      <td>NaN</td>\n",
              "      <td>Student</td>\n",
              "      <td>198.0</td>\n",
              "      <td>1.0</td>\n",
              "      <td>7429.40</td>\n",
              "      <td>2024-11-04 08:06:39</td>\n",
              "    </tr>\n",
              "    <tr>\n",
              "      <th>5</th>\n",
              "      <td>TX000006</td>\n",
              "      <td>AC00393</td>\n",
              "      <td>92.15</td>\n",
              "      <td>2023-04-03 17:15:01</td>\n",
              "      <td>Debit</td>\n",
              "      <td>Oklahoma City</td>\n",
              "      <td>D000579</td>\n",
              "      <td>117.67.192.211</td>\n",
              "      <td>M054</td>\n",
              "      <td>ATM</td>\n",
              "      <td>18.0</td>\n",
              "      <td>Student</td>\n",
              "      <td>172.0</td>\n",
              "      <td>1.0</td>\n",
              "      <td>781.68</td>\n",
              "      <td>2024-11-04 08:06:36</td>\n",
              "    </tr>\n",
              "    <tr>\n",
              "      <th>6</th>\n",
              "      <td>TX000007</td>\n",
              "      <td>AC00199</td>\n",
              "      <td>7.08</td>\n",
              "      <td>2023-02-15 16:36:48</td>\n",
              "      <td>Credit</td>\n",
              "      <td>Seattle</td>\n",
              "      <td>D000241</td>\n",
              "      <td>140.212.253.222</td>\n",
              "      <td>M019</td>\n",
              "      <td>ATM</td>\n",
              "      <td>37.0</td>\n",
              "      <td>Doctor</td>\n",
              "      <td>139.0</td>\n",
              "      <td>1.0</td>\n",
              "      <td>13316.71</td>\n",
              "      <td>2024-11-04 08:10:09</td>\n",
              "    </tr>\n",
              "    <tr>\n",
              "      <th>7</th>\n",
              "      <td>TX000008</td>\n",
              "      <td>AC00069</td>\n",
              "      <td>171.42</td>\n",
              "      <td>2023-05-08 17:47:59</td>\n",
              "      <td>Credit</td>\n",
              "      <td>Indianapolis</td>\n",
              "      <td>D000500</td>\n",
              "      <td>92.214.76.157</td>\n",
              "      <td>M020</td>\n",
              "      <td>Branch</td>\n",
              "      <td>67.0</td>\n",
              "      <td>Retired</td>\n",
              "      <td>291.0</td>\n",
              "      <td>1.0</td>\n",
              "      <td>2796.24</td>\n",
              "      <td>2024-11-04 08:10:55</td>\n",
              "    </tr>\n",
              "    <tr>\n",
              "      <th>8</th>\n",
              "      <td>TX000009</td>\n",
              "      <td>AC00135</td>\n",
              "      <td>106.23</td>\n",
              "      <td>2023-03-21 16:59:46</td>\n",
              "      <td>Credit</td>\n",
              "      <td>Detroit</td>\n",
              "      <td>D000690</td>\n",
              "      <td>24.148.92.177</td>\n",
              "      <td>M035</td>\n",
              "      <td>Branch</td>\n",
              "      <td>51.0</td>\n",
              "      <td>Engineer</td>\n",
              "      <td>86.0</td>\n",
              "      <td>1.0</td>\n",
              "      <td>9095.14</td>\n",
              "      <td>2024-11-04 08:11:14</td>\n",
              "    </tr>\n",
              "    <tr>\n",
              "      <th>9</th>\n",
              "      <td>TX000010</td>\n",
              "      <td>AC00385</td>\n",
              "      <td>815.96</td>\n",
              "      <td>2023-03-31 16:06:57</td>\n",
              "      <td>Debit</td>\n",
              "      <td>Nashville</td>\n",
              "      <td>D000199</td>\n",
              "      <td>32.169.88.41</td>\n",
              "      <td>M007</td>\n",
              "      <td>ATM</td>\n",
              "      <td>55.0</td>\n",
              "      <td>Doctor</td>\n",
              "      <td>120.0</td>\n",
              "      <td>1.0</td>\n",
              "      <td>1021.88</td>\n",
              "      <td>2024-11-04 08:06:32</td>\n",
              "    </tr>\n",
              "  </tbody>\n",
              "</table>\n",
              "</div>\n",
              "    <div class=\"colab-df-buttons\">\n",
              "\n",
              "  <div class=\"colab-df-container\">\n",
              "    <button class=\"colab-df-convert\" onclick=\"convertToInteractive('df-b2c238cb-25f3-4b11-8291-acab7054e411')\"\n",
              "            title=\"Convert this dataframe to an interactive table.\"\n",
              "            style=\"display:none;\">\n",
              "\n",
              "  <svg xmlns=\"http://www.w3.org/2000/svg\" height=\"24px\" viewBox=\"0 -960 960 960\">\n",
              "    <path d=\"M120-120v-720h720v720H120Zm60-500h600v-160H180v160Zm220 220h160v-160H400v160Zm0 220h160v-160H400v160ZM180-400h160v-160H180v160Zm440 0h160v-160H620v160ZM180-180h160v-160H180v160Zm440 0h160v-160H620v160Z\"/>\n",
              "  </svg>\n",
              "    </button>\n",
              "\n",
              "  <style>\n",
              "    .colab-df-container {\n",
              "      display:flex;\n",
              "      gap: 12px;\n",
              "    }\n",
              "\n",
              "    .colab-df-convert {\n",
              "      background-color: #E8F0FE;\n",
              "      border: none;\n",
              "      border-radius: 50%;\n",
              "      cursor: pointer;\n",
              "      display: none;\n",
              "      fill: #1967D2;\n",
              "      height: 32px;\n",
              "      padding: 0 0 0 0;\n",
              "      width: 32px;\n",
              "    }\n",
              "\n",
              "    .colab-df-convert:hover {\n",
              "      background-color: #E2EBFA;\n",
              "      box-shadow: 0px 1px 2px rgba(60, 64, 67, 0.3), 0px 1px 3px 1px rgba(60, 64, 67, 0.15);\n",
              "      fill: #174EA6;\n",
              "    }\n",
              "\n",
              "    .colab-df-buttons div {\n",
              "      margin-bottom: 4px;\n",
              "    }\n",
              "\n",
              "    [theme=dark] .colab-df-convert {\n",
              "      background-color: #3B4455;\n",
              "      fill: #D2E3FC;\n",
              "    }\n",
              "\n",
              "    [theme=dark] .colab-df-convert:hover {\n",
              "      background-color: #434B5C;\n",
              "      box-shadow: 0px 1px 3px 1px rgba(0, 0, 0, 0.15);\n",
              "      filter: drop-shadow(0px 1px 2px rgba(0, 0, 0, 0.3));\n",
              "      fill: #FFFFFF;\n",
              "    }\n",
              "  </style>\n",
              "\n",
              "    <script>\n",
              "      const buttonEl =\n",
              "        document.querySelector('#df-b2c238cb-25f3-4b11-8291-acab7054e411 button.colab-df-convert');\n",
              "      buttonEl.style.display =\n",
              "        google.colab.kernel.accessAllowed ? 'block' : 'none';\n",
              "\n",
              "      async function convertToInteractive(key) {\n",
              "        const element = document.querySelector('#df-b2c238cb-25f3-4b11-8291-acab7054e411');\n",
              "        const dataTable =\n",
              "          await google.colab.kernel.invokeFunction('convertToInteractive',\n",
              "                                                    [key], {});\n",
              "        if (!dataTable) return;\n",
              "\n",
              "        const docLinkHtml = 'Like what you see? Visit the ' +\n",
              "          '<a target=\"_blank\" href=https://colab.research.google.com/notebooks/data_table.ipynb>data table notebook</a>'\n",
              "          + ' to learn more about interactive tables.';\n",
              "        element.innerHTML = '';\n",
              "        dataTable['output_type'] = 'display_data';\n",
              "        await google.colab.output.renderOutput(dataTable, element);\n",
              "        const docLink = document.createElement('div');\n",
              "        docLink.innerHTML = docLinkHtml;\n",
              "        element.appendChild(docLink);\n",
              "      }\n",
              "    </script>\n",
              "  </div>\n",
              "\n",
              "\n",
              "    <div id=\"df-6f83e790-1f81-40d4-8170-5b492fef8e88\">\n",
              "      <button class=\"colab-df-quickchart\" onclick=\"quickchart('df-6f83e790-1f81-40d4-8170-5b492fef8e88')\"\n",
              "                title=\"Suggest charts\"\n",
              "                style=\"display:none;\">\n",
              "\n",
              "<svg xmlns=\"http://www.w3.org/2000/svg\" height=\"24px\"viewBox=\"0 0 24 24\"\n",
              "     width=\"24px\">\n",
              "    <g>\n",
              "        <path d=\"M19 3H5c-1.1 0-2 .9-2 2v14c0 1.1.9 2 2 2h14c1.1 0 2-.9 2-2V5c0-1.1-.9-2-2-2zM9 17H7v-7h2v7zm4 0h-2V7h2v10zm4 0h-2v-4h2v4z\"/>\n",
              "    </g>\n",
              "</svg>\n",
              "      </button>\n",
              "\n",
              "<style>\n",
              "  .colab-df-quickchart {\n",
              "      --bg-color: #E8F0FE;\n",
              "      --fill-color: #1967D2;\n",
              "      --hover-bg-color: #E2EBFA;\n",
              "      --hover-fill-color: #174EA6;\n",
              "      --disabled-fill-color: #AAA;\n",
              "      --disabled-bg-color: #DDD;\n",
              "  }\n",
              "\n",
              "  [theme=dark] .colab-df-quickchart {\n",
              "      --bg-color: #3B4455;\n",
              "      --fill-color: #D2E3FC;\n",
              "      --hover-bg-color: #434B5C;\n",
              "      --hover-fill-color: #FFFFFF;\n",
              "      --disabled-bg-color: #3B4455;\n",
              "      --disabled-fill-color: #666;\n",
              "  }\n",
              "\n",
              "  .colab-df-quickchart {\n",
              "    background-color: var(--bg-color);\n",
              "    border: none;\n",
              "    border-radius: 50%;\n",
              "    cursor: pointer;\n",
              "    display: none;\n",
              "    fill: var(--fill-color);\n",
              "    height: 32px;\n",
              "    padding: 0;\n",
              "    width: 32px;\n",
              "  }\n",
              "\n",
              "  .colab-df-quickchart:hover {\n",
              "    background-color: var(--hover-bg-color);\n",
              "    box-shadow: 0 1px 2px rgba(60, 64, 67, 0.3), 0 1px 3px 1px rgba(60, 64, 67, 0.15);\n",
              "    fill: var(--button-hover-fill-color);\n",
              "  }\n",
              "\n",
              "  .colab-df-quickchart-complete:disabled,\n",
              "  .colab-df-quickchart-complete:disabled:hover {\n",
              "    background-color: var(--disabled-bg-color);\n",
              "    fill: var(--disabled-fill-color);\n",
              "    box-shadow: none;\n",
              "  }\n",
              "\n",
              "  .colab-df-spinner {\n",
              "    border: 2px solid var(--fill-color);\n",
              "    border-color: transparent;\n",
              "    border-bottom-color: var(--fill-color);\n",
              "    animation:\n",
              "      spin 1s steps(1) infinite;\n",
              "  }\n",
              "\n",
              "  @keyframes spin {\n",
              "    0% {\n",
              "      border-color: transparent;\n",
              "      border-bottom-color: var(--fill-color);\n",
              "      border-left-color: var(--fill-color);\n",
              "    }\n",
              "    20% {\n",
              "      border-color: transparent;\n",
              "      border-left-color: var(--fill-color);\n",
              "      border-top-color: var(--fill-color);\n",
              "    }\n",
              "    30% {\n",
              "      border-color: transparent;\n",
              "      border-left-color: var(--fill-color);\n",
              "      border-top-color: var(--fill-color);\n",
              "      border-right-color: var(--fill-color);\n",
              "    }\n",
              "    40% {\n",
              "      border-color: transparent;\n",
              "      border-right-color: var(--fill-color);\n",
              "      border-top-color: var(--fill-color);\n",
              "    }\n",
              "    60% {\n",
              "      border-color: transparent;\n",
              "      border-right-color: var(--fill-color);\n",
              "    }\n",
              "    80% {\n",
              "      border-color: transparent;\n",
              "      border-right-color: var(--fill-color);\n",
              "      border-bottom-color: var(--fill-color);\n",
              "    }\n",
              "    90% {\n",
              "      border-color: transparent;\n",
              "      border-bottom-color: var(--fill-color);\n",
              "    }\n",
              "  }\n",
              "</style>\n",
              "\n",
              "      <script>\n",
              "        async function quickchart(key) {\n",
              "          const quickchartButtonEl =\n",
              "            document.querySelector('#' + key + ' button');\n",
              "          quickchartButtonEl.disabled = true;  // To prevent multiple clicks.\n",
              "          quickchartButtonEl.classList.add('colab-df-spinner');\n",
              "          try {\n",
              "            const charts = await google.colab.kernel.invokeFunction(\n",
              "                'suggestCharts', [key], {});\n",
              "          } catch (error) {\n",
              "            console.error('Error during call to suggestCharts:', error);\n",
              "          }\n",
              "          quickchartButtonEl.classList.remove('colab-df-spinner');\n",
              "          quickchartButtonEl.classList.add('colab-df-quickchart-complete');\n",
              "        }\n",
              "        (() => {\n",
              "          let quickchartButtonEl =\n",
              "            document.querySelector('#df-6f83e790-1f81-40d4-8170-5b492fef8e88 button');\n",
              "          quickchartButtonEl.style.display =\n",
              "            google.colab.kernel.accessAllowed ? 'block' : 'none';\n",
              "        })();\n",
              "      </script>\n",
              "    </div>\n",
              "\n",
              "    </div>\n",
              "  </div>\n"
            ],
            "application/vnd.google.colaboratory.intrinsic+json": {
              "type": "dataframe",
              "variable_name": "df",
              "summary": "{\n  \"name\": \"df\",\n  \"rows\": 2537,\n  \"fields\": [\n    {\n      \"column\": \"TransactionID\",\n      \"properties\": {\n        \"dtype\": \"string\",\n        \"num_unique_values\": 2484,\n        \"samples\": [\n          \"TX000425\",\n          \"TX001324\",\n          \"TX002042\"\n        ],\n        \"semantic_type\": \"\",\n        \"description\": \"\"\n      }\n    },\n    {\n      \"column\": \"AccountID\",\n      \"properties\": {\n        \"dtype\": \"category\",\n        \"num_unique_values\": 495,\n        \"samples\": [\n          \"AC00059\",\n          \"AC00022\",\n          \"AC00127\"\n        ],\n        \"semantic_type\": \"\",\n        \"description\": \"\"\n      }\n    },\n    {\n      \"column\": \"TransactionAmount\",\n      \"properties\": {\n        \"dtype\": \"number\",\n        \"std\": 292.23036746912936,\n        \"min\": 0.26,\n        \"max\": 1919.11,\n        \"num_unique_values\": 2433,\n        \"samples\": [\n          689.29,\n          879.25,\n          342.17\n        ],\n        \"semantic_type\": \"\",\n        \"description\": \"\"\n      }\n    },\n    {\n      \"column\": \"TransactionDate\",\n      \"properties\": {\n        \"dtype\": \"object\",\n        \"num_unique_values\": 2485,\n        \"samples\": [\n          \"2023-04-19 17:03:11\",\n          \"2023-01-12 17:58:56\",\n          \"2023-10-31 16:05:00\"\n        ],\n        \"semantic_type\": \"\",\n        \"description\": \"\"\n      }\n    },\n    {\n      \"column\": \"TransactionType\",\n      \"properties\": {\n        \"dtype\": \"category\",\n        \"num_unique_values\": 2,\n        \"samples\": [\n          \"Credit\",\n          \"Debit\"\n        ],\n        \"semantic_type\": \"\",\n        \"description\": \"\"\n      }\n    },\n    {\n      \"column\": \"Location\",\n      \"properties\": {\n        \"dtype\": \"category\",\n        \"num_unique_values\": 43,\n        \"samples\": [\n          \"Phoenix\",\n          \"San Jose\"\n        ],\n        \"semantic_type\": \"\",\n        \"description\": \"\"\n      }\n    },\n    {\n      \"column\": \"DeviceID\",\n      \"properties\": {\n        \"dtype\": \"category\",\n        \"num_unique_values\": 681,\n        \"samples\": [\n          \"D000062\",\n          \"D000244\"\n        ],\n        \"semantic_type\": \"\",\n        \"description\": \"\"\n      }\n    },\n    {\n      \"column\": \"IP Address\",\n      \"properties\": {\n        \"dtype\": \"category\",\n        \"num_unique_values\": 591,\n        \"samples\": [\n          \"3.102.127.165\",\n          \"22.196.202.183\"\n        ],\n        \"semantic_type\": \"\",\n        \"description\": \"\"\n      }\n    },\n    {\n      \"column\": \"MerchantID\",\n      \"properties\": {\n        \"dtype\": \"category\",\n        \"num_unique_values\": 100,\n        \"samples\": [\n          \"M072\",\n          \"M032\"\n        ],\n        \"semantic_type\": \"\",\n        \"description\": \"\"\n      }\n    },\n    {\n      \"column\": \"Channel\",\n      \"properties\": {\n        \"dtype\": \"category\",\n        \"num_unique_values\": 3,\n        \"samples\": [\n          \"ATM\",\n          \"Online\"\n        ],\n        \"semantic_type\": \"\",\n        \"description\": \"\"\n      }\n    },\n    {\n      \"column\": \"CustomerAge\",\n      \"properties\": {\n        \"dtype\": \"number\",\n        \"std\": 17.83735916133878,\n        \"min\": 18.0,\n        \"max\": 80.0,\n        \"num_unique_values\": 63,\n        \"samples\": [\n          73.0,\n          77.0\n        ],\n        \"semantic_type\": \"\",\n        \"description\": \"\"\n      }\n    },\n    {\n      \"column\": \"CustomerOccupation\",\n      \"properties\": {\n        \"dtype\": \"category\",\n        \"num_unique_values\": 4,\n        \"samples\": [\n          \"Student\",\n          \"Engineer\"\n        ],\n        \"semantic_type\": \"\",\n        \"description\": \"\"\n      }\n    },\n    {\n      \"column\": \"TransactionDuration\",\n      \"properties\": {\n        \"dtype\": \"number\",\n        \"std\": 70.0785127104524,\n        \"min\": 10.0,\n        \"max\": 300.0,\n        \"num_unique_values\": 288,\n        \"samples\": [\n          138.0,\n          37.0\n        ],\n        \"semantic_type\": \"\",\n        \"description\": \"\"\n      }\n    },\n    {\n      \"column\": \"LoginAttempts\",\n      \"properties\": {\n        \"dtype\": \"number\",\n        \"std\": 0.5944688003470012,\n        \"min\": 1.0,\n        \"max\": 5.0,\n        \"num_unique_values\": 5,\n        \"samples\": [\n          3.0,\n          4.0\n        ],\n        \"semantic_type\": \"\",\n        \"description\": \"\"\n      }\n    },\n    {\n      \"column\": \"AccountBalance\",\n      \"properties\": {\n        \"dtype\": \"number\",\n        \"std\": 3897.9758606498735,\n        \"min\": 101.25,\n        \"max\": 14977.99,\n        \"num_unique_values\": 2483,\n        \"samples\": [\n          11847.07,\n          219.53\n        ],\n        \"semantic_type\": \"\",\n        \"description\": \"\"\n      }\n    },\n    {\n      \"column\": \"PreviousTransactionDate\",\n      \"properties\": {\n        \"dtype\": \"object\",\n        \"num_unique_values\": 360,\n        \"samples\": [\n          \"2024-11-04 08:11:30\",\n          \"2024-11-04 08:09:53\"\n        ],\n        \"semantic_type\": \"\",\n        \"description\": \"\"\n      }\n    }\n  ]\n}"
            }
          },
          "metadata": {},
          "execution_count": 227
        }
      ]
    },
    {
      "cell_type": "code",
      "source": [
        "# Tinjau jumlah baris kolom dan jenis data dalam dataset dengan info.\n",
        "df.info()"
      ],
      "metadata": {
        "id": "0MgRVyMLnR5h",
        "colab": {
          "base_uri": "https://localhost:8080/"
        },
        "outputId": "7863693b-3bf2-470f-e762-5722d51d20f9"
      },
      "execution_count": 228,
      "outputs": [
        {
          "output_type": "stream",
          "name": "stdout",
          "text": [
            "<class 'pandas.core.frame.DataFrame'>\n",
            "RangeIndex: 2537 entries, 0 to 2536\n",
            "Data columns (total 16 columns):\n",
            " #   Column                   Non-Null Count  Dtype  \n",
            "---  ------                   --------------  -----  \n",
            " 0   TransactionID            2508 non-null   object \n",
            " 1   AccountID                2516 non-null   object \n",
            " 2   TransactionAmount        2511 non-null   float64\n",
            " 3   TransactionDate          2509 non-null   object \n",
            " 4   TransactionType          2507 non-null   object \n",
            " 5   Location                 2507 non-null   object \n",
            " 6   DeviceID                 2507 non-null   object \n",
            " 7   IP Address               2517 non-null   object \n",
            " 8   MerchantID               2514 non-null   object \n",
            " 9   Channel                  2510 non-null   object \n",
            " 10  CustomerAge              2519 non-null   float64\n",
            " 11  CustomerOccupation       2514 non-null   object \n",
            " 12  TransactionDuration      2511 non-null   float64\n",
            " 13  LoginAttempts            2516 non-null   float64\n",
            " 14  AccountBalance           2510 non-null   float64\n",
            " 15  PreviousTransactionDate  2513 non-null   object \n",
            "dtypes: float64(5), object(11)\n",
            "memory usage: 317.3+ KB\n"
          ]
        }
      ]
    },
    {
      "cell_type": "code",
      "source": [
        "# Menampilkan statistik deskriptif dataset dengan menjalankan describe\n",
        "df.describe()"
      ],
      "metadata": {
        "id": "hN9KsJPonVKT",
        "colab": {
          "base_uri": "https://localhost:8080/",
          "height": 300
        },
        "outputId": "860d25a6-542a-47d4-902e-fa9a3de42b73"
      },
      "execution_count": 229,
      "outputs": [
        {
          "output_type": "execute_result",
          "data": {
            "text/plain": [
              "       TransactionAmount  CustomerAge  TransactionDuration  LoginAttempts  \\\n",
              "count        2511.000000  2519.000000          2511.000000    2516.000000   \n",
              "mean          297.656468    44.678444           119.422939       1.121622   \n",
              "std           292.230367    17.837359            70.078513       0.594469   \n",
              "min             0.260000    18.000000            10.000000       1.000000   \n",
              "25%            81.310000    27.000000            63.000000       1.000000   \n",
              "50%           211.360000    45.000000           112.000000       1.000000   \n",
              "75%           413.105000    59.000000           161.000000       1.000000   \n",
              "max          1919.110000    80.000000           300.000000       5.000000   \n",
              "\n",
              "       AccountBalance  \n",
              "count     2510.000000  \n",
              "mean      5113.438124  \n",
              "std       3897.975861  \n",
              "min        101.250000  \n",
              "25%       1504.727500  \n",
              "50%       4734.110000  \n",
              "75%       7672.687500  \n",
              "max      14977.990000  "
            ],
            "text/html": [
              "\n",
              "  <div id=\"df-8b536de4-f999-43ed-92a3-2a52f92e0985\" class=\"colab-df-container\">\n",
              "    <div>\n",
              "<style scoped>\n",
              "    .dataframe tbody tr th:only-of-type {\n",
              "        vertical-align: middle;\n",
              "    }\n",
              "\n",
              "    .dataframe tbody tr th {\n",
              "        vertical-align: top;\n",
              "    }\n",
              "\n",
              "    .dataframe thead th {\n",
              "        text-align: right;\n",
              "    }\n",
              "</style>\n",
              "<table border=\"1\" class=\"dataframe\">\n",
              "  <thead>\n",
              "    <tr style=\"text-align: right;\">\n",
              "      <th></th>\n",
              "      <th>TransactionAmount</th>\n",
              "      <th>CustomerAge</th>\n",
              "      <th>TransactionDuration</th>\n",
              "      <th>LoginAttempts</th>\n",
              "      <th>AccountBalance</th>\n",
              "    </tr>\n",
              "  </thead>\n",
              "  <tbody>\n",
              "    <tr>\n",
              "      <th>count</th>\n",
              "      <td>2511.000000</td>\n",
              "      <td>2519.000000</td>\n",
              "      <td>2511.000000</td>\n",
              "      <td>2516.000000</td>\n",
              "      <td>2510.000000</td>\n",
              "    </tr>\n",
              "    <tr>\n",
              "      <th>mean</th>\n",
              "      <td>297.656468</td>\n",
              "      <td>44.678444</td>\n",
              "      <td>119.422939</td>\n",
              "      <td>1.121622</td>\n",
              "      <td>5113.438124</td>\n",
              "    </tr>\n",
              "    <tr>\n",
              "      <th>std</th>\n",
              "      <td>292.230367</td>\n",
              "      <td>17.837359</td>\n",
              "      <td>70.078513</td>\n",
              "      <td>0.594469</td>\n",
              "      <td>3897.975861</td>\n",
              "    </tr>\n",
              "    <tr>\n",
              "      <th>min</th>\n",
              "      <td>0.260000</td>\n",
              "      <td>18.000000</td>\n",
              "      <td>10.000000</td>\n",
              "      <td>1.000000</td>\n",
              "      <td>101.250000</td>\n",
              "    </tr>\n",
              "    <tr>\n",
              "      <th>25%</th>\n",
              "      <td>81.310000</td>\n",
              "      <td>27.000000</td>\n",
              "      <td>63.000000</td>\n",
              "      <td>1.000000</td>\n",
              "      <td>1504.727500</td>\n",
              "    </tr>\n",
              "    <tr>\n",
              "      <th>50%</th>\n",
              "      <td>211.360000</td>\n",
              "      <td>45.000000</td>\n",
              "      <td>112.000000</td>\n",
              "      <td>1.000000</td>\n",
              "      <td>4734.110000</td>\n",
              "    </tr>\n",
              "    <tr>\n",
              "      <th>75%</th>\n",
              "      <td>413.105000</td>\n",
              "      <td>59.000000</td>\n",
              "      <td>161.000000</td>\n",
              "      <td>1.000000</td>\n",
              "      <td>7672.687500</td>\n",
              "    </tr>\n",
              "    <tr>\n",
              "      <th>max</th>\n",
              "      <td>1919.110000</td>\n",
              "      <td>80.000000</td>\n",
              "      <td>300.000000</td>\n",
              "      <td>5.000000</td>\n",
              "      <td>14977.990000</td>\n",
              "    </tr>\n",
              "  </tbody>\n",
              "</table>\n",
              "</div>\n",
              "    <div class=\"colab-df-buttons\">\n",
              "\n",
              "  <div class=\"colab-df-container\">\n",
              "    <button class=\"colab-df-convert\" onclick=\"convertToInteractive('df-8b536de4-f999-43ed-92a3-2a52f92e0985')\"\n",
              "            title=\"Convert this dataframe to an interactive table.\"\n",
              "            style=\"display:none;\">\n",
              "\n",
              "  <svg xmlns=\"http://www.w3.org/2000/svg\" height=\"24px\" viewBox=\"0 -960 960 960\">\n",
              "    <path d=\"M120-120v-720h720v720H120Zm60-500h600v-160H180v160Zm220 220h160v-160H400v160Zm0 220h160v-160H400v160ZM180-400h160v-160H180v160Zm440 0h160v-160H620v160ZM180-180h160v-160H180v160Zm440 0h160v-160H620v160Z\"/>\n",
              "  </svg>\n",
              "    </button>\n",
              "\n",
              "  <style>\n",
              "    .colab-df-container {\n",
              "      display:flex;\n",
              "      gap: 12px;\n",
              "    }\n",
              "\n",
              "    .colab-df-convert {\n",
              "      background-color: #E8F0FE;\n",
              "      border: none;\n",
              "      border-radius: 50%;\n",
              "      cursor: pointer;\n",
              "      display: none;\n",
              "      fill: #1967D2;\n",
              "      height: 32px;\n",
              "      padding: 0 0 0 0;\n",
              "      width: 32px;\n",
              "    }\n",
              "\n",
              "    .colab-df-convert:hover {\n",
              "      background-color: #E2EBFA;\n",
              "      box-shadow: 0px 1px 2px rgba(60, 64, 67, 0.3), 0px 1px 3px 1px rgba(60, 64, 67, 0.15);\n",
              "      fill: #174EA6;\n",
              "    }\n",
              "\n",
              "    .colab-df-buttons div {\n",
              "      margin-bottom: 4px;\n",
              "    }\n",
              "\n",
              "    [theme=dark] .colab-df-convert {\n",
              "      background-color: #3B4455;\n",
              "      fill: #D2E3FC;\n",
              "    }\n",
              "\n",
              "    [theme=dark] .colab-df-convert:hover {\n",
              "      background-color: #434B5C;\n",
              "      box-shadow: 0px 1px 3px 1px rgba(0, 0, 0, 0.15);\n",
              "      filter: drop-shadow(0px 1px 2px rgba(0, 0, 0, 0.3));\n",
              "      fill: #FFFFFF;\n",
              "    }\n",
              "  </style>\n",
              "\n",
              "    <script>\n",
              "      const buttonEl =\n",
              "        document.querySelector('#df-8b536de4-f999-43ed-92a3-2a52f92e0985 button.colab-df-convert');\n",
              "      buttonEl.style.display =\n",
              "        google.colab.kernel.accessAllowed ? 'block' : 'none';\n",
              "\n",
              "      async function convertToInteractive(key) {\n",
              "        const element = document.querySelector('#df-8b536de4-f999-43ed-92a3-2a52f92e0985');\n",
              "        const dataTable =\n",
              "          await google.colab.kernel.invokeFunction('convertToInteractive',\n",
              "                                                    [key], {});\n",
              "        if (!dataTable) return;\n",
              "\n",
              "        const docLinkHtml = 'Like what you see? Visit the ' +\n",
              "          '<a target=\"_blank\" href=https://colab.research.google.com/notebooks/data_table.ipynb>data table notebook</a>'\n",
              "          + ' to learn more about interactive tables.';\n",
              "        element.innerHTML = '';\n",
              "        dataTable['output_type'] = 'display_data';\n",
              "        await google.colab.output.renderOutput(dataTable, element);\n",
              "        const docLink = document.createElement('div');\n",
              "        docLink.innerHTML = docLinkHtml;\n",
              "        element.appendChild(docLink);\n",
              "      }\n",
              "    </script>\n",
              "  </div>\n",
              "\n",
              "\n",
              "    <div id=\"df-9aac33ef-c95d-4ce7-bf59-697ad1a2ecbb\">\n",
              "      <button class=\"colab-df-quickchart\" onclick=\"quickchart('df-9aac33ef-c95d-4ce7-bf59-697ad1a2ecbb')\"\n",
              "                title=\"Suggest charts\"\n",
              "                style=\"display:none;\">\n",
              "\n",
              "<svg xmlns=\"http://www.w3.org/2000/svg\" height=\"24px\"viewBox=\"0 0 24 24\"\n",
              "     width=\"24px\">\n",
              "    <g>\n",
              "        <path d=\"M19 3H5c-1.1 0-2 .9-2 2v14c0 1.1.9 2 2 2h14c1.1 0 2-.9 2-2V5c0-1.1-.9-2-2-2zM9 17H7v-7h2v7zm4 0h-2V7h2v10zm4 0h-2v-4h2v4z\"/>\n",
              "    </g>\n",
              "</svg>\n",
              "      </button>\n",
              "\n",
              "<style>\n",
              "  .colab-df-quickchart {\n",
              "      --bg-color: #E8F0FE;\n",
              "      --fill-color: #1967D2;\n",
              "      --hover-bg-color: #E2EBFA;\n",
              "      --hover-fill-color: #174EA6;\n",
              "      --disabled-fill-color: #AAA;\n",
              "      --disabled-bg-color: #DDD;\n",
              "  }\n",
              "\n",
              "  [theme=dark] .colab-df-quickchart {\n",
              "      --bg-color: #3B4455;\n",
              "      --fill-color: #D2E3FC;\n",
              "      --hover-bg-color: #434B5C;\n",
              "      --hover-fill-color: #FFFFFF;\n",
              "      --disabled-bg-color: #3B4455;\n",
              "      --disabled-fill-color: #666;\n",
              "  }\n",
              "\n",
              "  .colab-df-quickchart {\n",
              "    background-color: var(--bg-color);\n",
              "    border: none;\n",
              "    border-radius: 50%;\n",
              "    cursor: pointer;\n",
              "    display: none;\n",
              "    fill: var(--fill-color);\n",
              "    height: 32px;\n",
              "    padding: 0;\n",
              "    width: 32px;\n",
              "  }\n",
              "\n",
              "  .colab-df-quickchart:hover {\n",
              "    background-color: var(--hover-bg-color);\n",
              "    box-shadow: 0 1px 2px rgba(60, 64, 67, 0.3), 0 1px 3px 1px rgba(60, 64, 67, 0.15);\n",
              "    fill: var(--button-hover-fill-color);\n",
              "  }\n",
              "\n",
              "  .colab-df-quickchart-complete:disabled,\n",
              "  .colab-df-quickchart-complete:disabled:hover {\n",
              "    background-color: var(--disabled-bg-color);\n",
              "    fill: var(--disabled-fill-color);\n",
              "    box-shadow: none;\n",
              "  }\n",
              "\n",
              "  .colab-df-spinner {\n",
              "    border: 2px solid var(--fill-color);\n",
              "    border-color: transparent;\n",
              "    border-bottom-color: var(--fill-color);\n",
              "    animation:\n",
              "      spin 1s steps(1) infinite;\n",
              "  }\n",
              "\n",
              "  @keyframes spin {\n",
              "    0% {\n",
              "      border-color: transparent;\n",
              "      border-bottom-color: var(--fill-color);\n",
              "      border-left-color: var(--fill-color);\n",
              "    }\n",
              "    20% {\n",
              "      border-color: transparent;\n",
              "      border-left-color: var(--fill-color);\n",
              "      border-top-color: var(--fill-color);\n",
              "    }\n",
              "    30% {\n",
              "      border-color: transparent;\n",
              "      border-left-color: var(--fill-color);\n",
              "      border-top-color: var(--fill-color);\n",
              "      border-right-color: var(--fill-color);\n",
              "    }\n",
              "    40% {\n",
              "      border-color: transparent;\n",
              "      border-right-color: var(--fill-color);\n",
              "      border-top-color: var(--fill-color);\n",
              "    }\n",
              "    60% {\n",
              "      border-color: transparent;\n",
              "      border-right-color: var(--fill-color);\n",
              "    }\n",
              "    80% {\n",
              "      border-color: transparent;\n",
              "      border-right-color: var(--fill-color);\n",
              "      border-bottom-color: var(--fill-color);\n",
              "    }\n",
              "    90% {\n",
              "      border-color: transparent;\n",
              "      border-bottom-color: var(--fill-color);\n",
              "    }\n",
              "  }\n",
              "</style>\n",
              "\n",
              "      <script>\n",
              "        async function quickchart(key) {\n",
              "          const quickchartButtonEl =\n",
              "            document.querySelector('#' + key + ' button');\n",
              "          quickchartButtonEl.disabled = true;  // To prevent multiple clicks.\n",
              "          quickchartButtonEl.classList.add('colab-df-spinner');\n",
              "          try {\n",
              "            const charts = await google.colab.kernel.invokeFunction(\n",
              "                'suggestCharts', [key], {});\n",
              "          } catch (error) {\n",
              "            console.error('Error during call to suggestCharts:', error);\n",
              "          }\n",
              "          quickchartButtonEl.classList.remove('colab-df-spinner');\n",
              "          quickchartButtonEl.classList.add('colab-df-quickchart-complete');\n",
              "        }\n",
              "        (() => {\n",
              "          let quickchartButtonEl =\n",
              "            document.querySelector('#df-9aac33ef-c95d-4ce7-bf59-697ad1a2ecbb button');\n",
              "          quickchartButtonEl.style.display =\n",
              "            google.colab.kernel.accessAllowed ? 'block' : 'none';\n",
              "        })();\n",
              "      </script>\n",
              "    </div>\n",
              "\n",
              "    </div>\n",
              "  </div>\n"
            ],
            "application/vnd.google.colaboratory.intrinsic+json": {
              "type": "dataframe",
              "summary": "{\n  \"name\": \"df\",\n  \"rows\": 8,\n  \"fields\": [\n    {\n      \"column\": \"TransactionAmount\",\n      \"properties\": {\n        \"dtype\": \"number\",\n        \"std\": 947.5993920594391,\n        \"min\": 0.26,\n        \"max\": 2511.0,\n        \"num_unique_values\": 8,\n        \"samples\": [\n          297.6564675428116,\n          211.36,\n          2511.0\n        ],\n        \"semantic_type\": \"\",\n        \"description\": \"\"\n      }\n    },\n    {\n      \"column\": \"CustomerAge\",\n      \"properties\": {\n        \"dtype\": \"number\",\n        \"std\": 876.1326913421283,\n        \"min\": 17.83735916133878,\n        \"max\": 2519.0,\n        \"num_unique_values\": 8,\n        \"samples\": [\n          44.67844382691544,\n          45.0,\n          2519.0\n        ],\n        \"semantic_type\": \"\",\n        \"description\": \"\"\n      }\n    },\n    {\n      \"column\": \"TransactionDuration\",\n      \"properties\": {\n        \"dtype\": \"number\",\n        \"std\": 849.953262620521,\n        \"min\": 10.0,\n        \"max\": 2511.0,\n        \"num_unique_values\": 8,\n        \"samples\": [\n          119.42293906810036,\n          112.0,\n          2511.0\n        ],\n        \"semantic_type\": \"\",\n        \"description\": \"\"\n      }\n    },\n    {\n      \"column\": \"LoginAttempts\",\n      \"properties\": {\n        \"dtype\": \"number\",\n        \"std\": 889.0002278827087,\n        \"min\": 0.5944688003470012,\n        \"max\": 2516.0,\n        \"num_unique_values\": 5,\n        \"samples\": [\n          1.1216216216216217,\n          5.0,\n          0.5944688003470012\n        ],\n        \"semantic_type\": \"\",\n        \"description\": \"\"\n      }\n    },\n    {\n      \"column\": \"AccountBalance\",\n      \"properties\": {\n        \"dtype\": \"number\",\n        \"std\": 4635.0151227093575,\n        \"min\": 101.25,\n        \"max\": 14977.99,\n        \"num_unique_values\": 8,\n        \"samples\": [\n          5113.438123505975,\n          4734.110000000001,\n          2510.0\n        ],\n        \"semantic_type\": \"\",\n        \"description\": \"\"\n      }\n    }\n  ]\n}"
            }
          },
          "metadata": {},
          "execution_count": 229
        }
      ]
    },
    {
      "cell_type": "markdown",
      "source": [
        "(Opsional) Memuat Dataset dan Melakukan Exploratory Data Analysis (EDA) [Skilled]\n",
        "\n",
        "**Biarkan kosong jika tidak menerapkan kriteria skilled**"
      ],
      "metadata": {
        "id": "DNOEZk24uiXu"
      }
    },
    {
      "cell_type": "code",
      "source": [
        "# Menampilkan korelasi antar fitur (Opsional Skilled 1)\n",
        "numerical_columns = df.select_dtypes(include=['number']).columns\n",
        "\n",
        "# Mengganti NaN dengan median pada kolom numerik\n",
        "df[numerical_columns] = df[numerical_columns].fillna(df[numerical_columns].median())\n",
        "\n",
        "# Matriks korelasi antar kolom numerik\n",
        "correlation_matrix = df[numerical_columns].corr()\n",
        "\n",
        "# Membuat heatmap untuk matriks korelasi\n",
        "plt.figure(figsize=(10, 8))\n",
        "sns.heatmap(correlation_matrix, annot=True, cmap='coolwarm', fmt='.2f', linewidths=0.5)\n",
        "plt.title('Matriks Korelasi Antar Fitur')\n",
        "plt.show()"
      ],
      "metadata": {
        "id": "DGAJlKExnYAt",
        "colab": {
          "base_uri": "https://localhost:8080/",
          "height": 697
        },
        "outputId": "1e9df659-c57b-457c-f67e-4d8028ed4e07"
      },
      "execution_count": 230,
      "outputs": [
        {
          "output_type": "display_data",
          "data": {
            "text/plain": [
              "<Figure size 1000x800 with 2 Axes>"
            ],
            "image/png": "[encoded data removed]"
          },
          "metadata": {}
        }
      ]
    },
    {
      "cell_type": "code",
      "source": [
        "# Menampilkan histogram untuk semua kolom numerik (Opsional Skilled 1)\n",
        "df.hist(figsize=(12, 10), bins=30)\n",
        "plt.suptitle('Histogram untuk Semua Kolom Numerik')\n",
        "plt.show()"
      ],
      "metadata": {
        "id": "kcBn9v4Fn8FO",
        "colab": {
          "base_uri": "https://localhost:8080/",
          "height": 930
        },
        "outputId": "2ca39f6b-eb97-4ddd-ed87-3417b29f3929"
      },
      "execution_count": null,
      "outputs": [
        {
          "output_type": "display_data",
          "data": {
            "text/plain": [
              "<Figure size 1200x1000 with 6 Axes>"
            ],
            "image/png": "[encoded data removed]"
          },
          "metadata": {}
        }
      ]
    },
    {
      "cell_type": "markdown",
      "source": [
        "(Opsional) Memuat Dataset dan Melakukan Exploratory Data Analysis (EDA) [Advanced]\n",
        "\n",
        "**Biarkan kosong jika tidak menerapkan kriteria advanced**"
      ],
      "metadata": {
        "id": "k-S35baFuwaP"
      }
    },
    {
      "cell_type": "code",
      "source": [
        "# Visualisasi yang lebih informatif (Opsional Advanced 1)\n",
        "plt.figure(figsize=(10, 6))\n",
        "sns.histplot(df['CustomerAge'], kde=True, bins=15)\n",
        "plt.title('Histogram dan KDE untuk Kolom Numerik')\n",
        "plt.show()"
      ],
      "metadata": {
        "id": "GVIuT8VDokKn",
        "colab": {
          "base_uri": "https://localhost:8080/",
          "height": 562
        },
        "outputId": "4aadc3e5-d1d3-4c18-8729-07975e223abb"
      },
      "execution_count": null,
      "outputs": [
        {
          "output_type": "display_data",
          "data": {
            "text/plain": [
              "<Figure size 1000x600 with 1 Axes>"
            ],
            "image/png": "[encoded data removed]"
          },
          "metadata": {}
        }
      ]
    },
    {
      "cell_type": "markdown",
      "source": [
        "# **3. Pembersihan dan Pra Pemrosesan Data**\n",
        "\n",
        "Pada tahap ini, Anda akan melakukan **Pembersihan Dataset** untuk menjadikan dataset mudah diintepretasi dan bisa dilatih. Hal-hal yang wajib kamu lakukan yaitu:\n",
        "\n",
        "1. Mengubah type data Object menjadi float\n",
        "1. **Mengecek dataset** menggunakan isnull().sum() dan duplicated().sum().\n",
        "2. Melakukan feature scaling menggunakan `MinMaxScaler()` atau `StandardScalar()` untuk fitur numerik.\n",
        "3. Melakukan feature encoding menggunakan `pd.get_dummies()` atau `LabelEncoder()` untuk fitur kategorikal.\n",
        "4. Melakukan drop pada kolom id.\n",
        "5. **Ketentuan Cell Code**\n",
        "   - Pastikan **setiap pemeriksaan tersebut** memiliki **output pada cell-nya**. Jika tidak **submission langsung ditolak**\n"
      ],
      "metadata": {
        "id": "cSemyzQHU0On"
      }
    },
    {
      "cell_type": "code",
      "source": [
        "# menyalin dataset\n",
        "df_new = df.copy()"
      ],
      "metadata": {
        "id": "FPszoNg1ofr7"
      },
      "execution_count": 231,
      "outputs": []
    },
    {
      "cell_type": "code",
      "source": [
        "# Mengecek dataset menggunakan isnull().sum()\n",
        "df_new.isnull().sum()"
      ],
      "metadata": {
        "id": "dKeejtvxM6X1",
        "colab": {
          "base_uri": "https://localhost:8080/",
          "height": 585
        },
        "outputId": "7bf847f5-3310-45f6-f0c9-cf65afad43b1"
      },
      "execution_count": 232,
      "outputs": [
        {
          "output_type": "execute_result",
          "data": {
            "text/plain": [
              "TransactionID              29\n",
              "AccountID                  21\n",
              "TransactionAmount           0\n",
              "TransactionDate            28\n",
              "TransactionType            30\n",
              "Location                   30\n",
              "DeviceID                   30\n",
              "IP Address                 20\n",
              "MerchantID                 23\n",
              "Channel                    27\n",
              "CustomerAge                 0\n",
              "CustomerOccupation         23\n",
              "TransactionDuration         0\n",
              "LoginAttempts               0\n",
              "AccountBalance              0\n",
              "PreviousTransactionDate    24\n",
              "dtype: int64"
            ],
            "text/html": [
              "<div>\n",
              "<style scoped>\n",
              "    .dataframe tbody tr th:only-of-type {\n",
              "        vertical-align: middle;\n",
              "    }\n",
              "\n",
              "    .dataframe tbody tr th {\n",
              "        vertical-align: top;\n",
              "    }\n",
              "\n",
              "    .dataframe thead th {\n",
              "        text-align: right;\n",
              "    }\n",
              "</style>\n",
              "<table border=\"1\" class=\"dataframe\">\n",
              "  <thead>\n",
              "    <tr style=\"text-align: right;\">\n",
              "      <th></th>\n",
              "      <th>0</th>\n",
              "    </tr>\n",
              "  </thead>\n",
              "  <tbody>\n",
              "    <tr>\n",
              "      <th>TransactionID</th>\n",
              "      <td>29</td>\n",
              "    </tr>\n",
              "    <tr>\n",
              "      <th>AccountID</th>\n",
              "      <td>21</td>\n",
              "    </tr>\n",
              "    <tr>\n",
              "      <th>TransactionAmount</th>\n",
              "      <td>0</td>\n",
              "    </tr>\n",
              "    <tr>\n",
              "      <th>TransactionDate</th>\n",
              "      <td>28</td>\n",
              "    </tr>\n",
              "    <tr>\n",
              "      <th>TransactionType</th>\n",
              "      <td>30</td>\n",
              "    </tr>\n",
              "    <tr>\n",
              "      <th>Location</th>\n",
              "      <td>30</td>\n",
              "    </tr>\n",
              "    <tr>\n",
              "      <th>DeviceID</th>\n",
              "      <td>30</td>\n",
              "    </tr>\n",
              "    <tr>\n",
              "      <th>IP Address</th>\n",
              "      <td>20</td>\n",
              "    </tr>\n",
              "    <tr>\n",
              "      <th>MerchantID</th>\n",
              "      <td>23</td>\n",
              "    </tr>\n",
              "    <tr>\n",
              "      <th>Channel</th>\n",
              "      <td>27</td>\n",
              "    </tr>\n",
              "    <tr>\n",
              "      <th>CustomerAge</th>\n",
              "      <td>0</td>\n",
              "    </tr>\n",
              "    <tr>\n",
              "      <th>CustomerOccupation</th>\n",
              "      <td>23</td>\n",
              "    </tr>\n",
              "    <tr>\n",
              "      <th>TransactionDuration</th>\n",
              "      <td>0</td>\n",
              "    </tr>\n",
              "    <tr>\n",
              "      <th>LoginAttempts</th>\n",
              "      <td>0</td>\n",
              "    </tr>\n",
              "    <tr>\n",
              "      <th>AccountBalance</th>\n",
              "      <td>0</td>\n",
              "    </tr>\n",
              "    <tr>\n",
              "      <th>PreviousTransactionDate</th>\n",
              "      <td>24</td>\n",
              "    </tr>\n",
              "  </tbody>\n",
              "</table>\n",
              "</div><br><label><b>dtype:</b> int64</label>"
            ]
          },
          "metadata": {},
          "execution_count": 232
        }
      ]
    },
    {
      "cell_type": "code",
      "source": [
        "# Mengecek dataset menggunakan duplicated().sum()\n",
        "df_new.duplicated().sum()\n",
        "print(\"Jumlah data duplikat:\", df.duplicated().sum())"
      ],
      "metadata": {
        "id": "2RrBA92mpHBc",
        "colab": {
          "base_uri": "https://localhost:8080/"
        },
        "outputId": "fa5924cc-c5db-4437-b18e-6c8839cb3513"
      },
      "execution_count": 233,
      "outputs": [
        {
          "output_type": "stream",
          "name": "stdout",
          "text": [
            "Jumlah data duplikat: 22\n"
          ]
        }
      ]
    },
    {
      "cell_type": "markdown",
      "source": [
        "### Menghilangkan kolom tidak penting"
      ],
      "metadata": {
        "id": "NUNSrXhym93b"
      }
    },
    {
      "cell_type": "code",
      "source": [
        "# Tentukan kolom yang ingin dihapus\n",
        "columns_to_drop = ['TransactionID', 'AccountID', 'DeviceID', 'IP Address', 'MerchantID','TransactionDate','PreviousTransactionDate']\n",
        "\n",
        "# Pastikan kolom yang ingin dihapus ada dalam dataframe\n",
        "columns_to_drop_existing = [col for col in columns_to_drop if col in df_new.columns]\n",
        "\n",
        "# Hapus kolom yang ada\n",
        "df_new.drop(columns=columns_to_drop_existing, inplace=True)"
      ],
      "metadata": {
        "id": "krEjoErBnB3D"
      },
      "execution_count": 234,
      "outputs": []
    },
    {
      "cell_type": "markdown",
      "source": [
        "### Tangani missing value pada variabel numeric"
      ],
      "metadata": {
        "id": "JixdffJPnS8P"
      }
    },
    {
      "cell_type": "code",
      "source": [
        "# Mendapatkan kolom numerik\n",
        "numerical_columns = df.select_dtypes(include=['float64', 'int64']).columns\n",
        "# Tangani nilai NaN pada kolom numerik dengan mengganti NaN dengan median\n",
        "df_new[numerical_columns] = df_new[numerical_columns].fillna(df_new[numerical_columns].median())\n",
        "df_new[numerical_columns].isnull().sum()"
      ],
      "metadata": {
        "colab": {
          "base_uri": "https://localhost:8080/",
          "height": 241
        },
        "id": "7Vw_qV3Zb8N5",
        "outputId": "53357b01-6caa-40cd-bbed-c239e6031813"
      },
      "execution_count": 235,
      "outputs": [
        {
          "output_type": "execute_result",
          "data": {
            "text/plain": [
              "TransactionAmount      0\n",
              "CustomerAge            0\n",
              "TransactionDuration    0\n",
              "LoginAttempts          0\n",
              "AccountBalance         0\n",
              "dtype: int64"
            ],
            "text/html": [
              "<div>\n",
              "<style scoped>\n",
              "    .dataframe tbody tr th:only-of-type {\n",
              "        vertical-align: middle;\n",
              "    }\n",
              "\n",
              "    .dataframe tbody tr th {\n",
              "        vertical-align: top;\n",
              "    }\n",
              "\n",
              "    .dataframe thead th {\n",
              "        text-align: right;\n",
              "    }\n",
              "</style>\n",
              "<table border=\"1\" class=\"dataframe\">\n",
              "  <thead>\n",
              "    <tr style=\"text-align: right;\">\n",
              "      <th></th>\n",
              "      <th>0</th>\n",
              "    </tr>\n",
              "  </thead>\n",
              "  <tbody>\n",
              "    <tr>\n",
              "      <th>TransactionAmount</th>\n",
              "      <td>0</td>\n",
              "    </tr>\n",
              "    <tr>\n",
              "      <th>CustomerAge</th>\n",
              "      <td>0</td>\n",
              "    </tr>\n",
              "    <tr>\n",
              "      <th>TransactionDuration</th>\n",
              "      <td>0</td>\n",
              "    </tr>\n",
              "    <tr>\n",
              "      <th>LoginAttempts</th>\n",
              "      <td>0</td>\n",
              "    </tr>\n",
              "    <tr>\n",
              "      <th>AccountBalance</th>\n",
              "      <td>0</td>\n",
              "    </tr>\n",
              "  </tbody>\n",
              "</table>\n",
              "</div><br><label><b>dtype:</b> int64</label>"
            ]
          },
          "metadata": {},
          "execution_count": 235
        }
      ]
    },
    {
      "cell_type": "markdown",
      "source": [
        "### menghilangkan missing value pada kolom kategorikal"
      ],
      "metadata": {
        "id": "BUV4E9byjvsJ"
      }
    },
    {
      "cell_type": "code",
      "source": [
        "category_features = df_new.select_dtypes(include=['object', 'category']).columns.tolist()\n",
        "\n",
        "# Tangani nilai NaN dengan mengisi dengan nilai modus\n",
        "for col in category_features:\n",
        "    if df_new[col].isnull().any():\n",
        "        mode_val = df_new[col].mode()[0]\n",
        "        print(f'Kolom {col} memiliki NaN, melakukan imputasi dengan modus: {mode_val}')\n",
        "        df_new[col] = df_new[col].fillna(mode_val)"
      ],
      "metadata": {
        "colab": {
          "base_uri": "https://localhost:8080/"
        },
        "id": "p8Gz_hnmj140",
        "outputId": "92f8da1a-c629-4952-856c-86ac51b443e6"
      },
      "execution_count": 236,
      "outputs": [
        {
          "output_type": "stream",
          "name": "stdout",
          "text": [
            "Kolom TransactionType memiliki NaN, melakukan imputasi dengan modus: Debit\n",
            "Kolom Location memiliki NaN, melakukan imputasi dengan modus: Fort Worth\n",
            "Kolom Channel memiliki NaN, melakukan imputasi dengan modus: Branch\n",
            "Kolom CustomerOccupation memiliki NaN, melakukan imputasi dengan modus: Student\n"
          ]
        }
      ]
    },
    {
      "cell_type": "code",
      "source": [
        "df_new.isnull().sum()"
      ],
      "metadata": {
        "colab": {
          "base_uri": "https://localhost:8080/",
          "height": 366
        },
        "id": "ROaJjJ-ljrns",
        "outputId": "ad928a79-3329-472f-bd2e-259175b2bf1b"
      },
      "execution_count": 237,
      "outputs": [
        {
          "output_type": "execute_result",
          "data": {
            "text/plain": [
              "TransactionAmount      0\n",
              "TransactionType        0\n",
              "Location               0\n",
              "Channel                0\n",
              "CustomerAge            0\n",
              "CustomerOccupation     0\n",
              "TransactionDuration    0\n",
              "LoginAttempts          0\n",
              "AccountBalance         0\n",
              "dtype: int64"
            ],
            "text/html": [
              "<div>\n",
              "<style scoped>\n",
              "    .dataframe tbody tr th:only-of-type {\n",
              "        vertical-align: middle;\n",
              "    }\n",
              "\n",
              "    .dataframe tbody tr th {\n",
              "        vertical-align: top;\n",
              "    }\n",
              "\n",
              "    .dataframe thead th {\n",
              "        text-align: right;\n",
              "    }\n",
              "</style>\n",
              "<table border=\"1\" class=\"dataframe\">\n",
              "  <thead>\n",
              "    <tr style=\"text-align: right;\">\n",
              "      <th></th>\n",
              "      <th>0</th>\n",
              "    </tr>\n",
              "  </thead>\n",
              "  <tbody>\n",
              "    <tr>\n",
              "      <th>TransactionAmount</th>\n",
              "      <td>0</td>\n",
              "    </tr>\n",
              "    <tr>\n",
              "      <th>TransactionType</th>\n",
              "      <td>0</td>\n",
              "    </tr>\n",
              "    <tr>\n",
              "      <th>Location</th>\n",
              "      <td>0</td>\n",
              "    </tr>\n",
              "    <tr>\n",
              "      <th>Channel</th>\n",
              "      <td>0</td>\n",
              "    </tr>\n",
              "    <tr>\n",
              "      <th>CustomerAge</th>\n",
              "      <td>0</td>\n",
              "    </tr>\n",
              "    <tr>\n",
              "      <th>CustomerOccupation</th>\n",
              "      <td>0</td>\n",
              "    </tr>\n",
              "    <tr>\n",
              "      <th>TransactionDuration</th>\n",
              "      <td>0</td>\n",
              "    </tr>\n",
              "    <tr>\n",
              "      <th>LoginAttempts</th>\n",
              "      <td>0</td>\n",
              "    </tr>\n",
              "    <tr>\n",
              "      <th>AccountBalance</th>\n",
              "      <td>0</td>\n",
              "    </tr>\n",
              "  </tbody>\n",
              "</table>\n",
              "</div><br><label><b>dtype:</b> int64</label>"
            ]
          },
          "metadata": {},
          "execution_count": 237
        }
      ]
    },
    {
      "cell_type": "markdown",
      "source": [
        "## menghilangkan duplikasi"
      ],
      "metadata": {
        "id": "RChmDir7ivj1"
      }
    },
    {
      "cell_type": "code",
      "source": [
        "# melihat kolom mana saja yang duplikasi\n",
        "print(\"Jumlah data duplikat per kolom:\")\n",
        "print(df_new.apply(lambda x: x.duplicated().sum()))"
      ],
      "metadata": {
        "colab": {
          "base_uri": "https://localhost:8080/"
        },
        "id": "wXARSrWNkVgX",
        "outputId": "97b851a1-c689-408f-ba06-e75562beb567"
      },
      "execution_count": 238,
      "outputs": [
        {
          "output_type": "stream",
          "name": "stdout",
          "text": [
            "Jumlah data duplikat per kolom:\n",
            "TransactionAmount       104\n",
            "TransactionType        2535\n",
            "Location               2494\n",
            "Channel                2534\n",
            "CustomerAge            2474\n",
            "CustomerOccupation     2533\n",
            "TransactionDuration    2249\n",
            "LoginAttempts          2532\n",
            "AccountBalance           53\n",
            "dtype: int64\n"
          ]
        }
      ]
    },
    {
      "cell_type": "markdown",
      "source": [
        "Dapat dilihat kalau kebanyakan semua kolom memiliki nilai duplikasi, ini wajar untuk dataset seperti ini dimana pilihan sudah ditetapkan diawal, jadi tidak perlu dihapus duplikasinya"
      ],
      "metadata": {
        "id": "QoXRaCEPlE12"
      }
    },
    {
      "cell_type": "markdown",
      "source": [
        "### Menghilangkan outlier"
      ],
      "metadata": {
        "id": "9y-VFNnCmkwP"
      }
    },
    {
      "cell_type": "code",
      "source": [
        "# Tentukan kolom numerik yang akan dicek outlier\n",
        "numerical_cols = df_new.select_dtypes(include=['float64', 'int64']).columns.tolist()\n",
        "\n",
        "# Fungsi deteksi outlier menggunakan IQR\n",
        "def detect_outliers_iqr(data):\n",
        "    Q1 = np.percentile(data, 25)\n",
        "    Q3 = np.percentile(data, 75)\n",
        "    IQR = Q3 - Q1\n",
        "    lower_bound = Q1 - 1.5 * IQR\n",
        "    upper_bound = Q3 + 1.5 * IQR\n",
        "    return (data < lower_bound) | (data > upper_bound)\n",
        "\n",
        "# Threshold jumlah outlier untuk memutuskan drop atau imputasi\n",
        "threshold = 10  # Contoh: jika outlier > 10, lakukan imputasi, kalau <= 10, drop\n",
        "\n",
        "for col in numerical_cols:\n",
        "    outliers = detect_outliers_iqr(df_new[col])\n",
        "    num_outliers = outliers.sum()\n",
        "    print(f\"Kolom {col} memiliki {num_outliers} outlier\")\n",
        "\n",
        "    if num_outliers == 0:\n",
        "        continue  # Tidak ada outlier, lanjutkan ke kolom berikutnya\n",
        "\n",
        "    if num_outliers <= threshold:\n",
        "        # Drop baris yang memiliki outlier di kolom tersebut\n",
        "        df_new = df_new[~outliers]\n",
        "        print(f\"Drop {num_outliers} baris di kolom {col} karena jumlah outlier kecil\")\n",
        "    else:\n",
        "        # Imputasi nilai outlier dengan median kolom\n",
        "        median_val = df_new.loc[~outliers, col].median()\n",
        "        df_new.loc[outliers, col] = median_val\n",
        "        print(f\"Imputasi nilai outlier di kolom {col} dengan median {median_val}\")\n",
        "\n",
        "# Reset index setelah drop baris\n",
        "df_new.reset_index(drop=True, inplace=True)\n",
        "print(\"Handling outlier selesai.\")"
      ],
      "metadata": {
        "colab": {
          "base_uri": "https://localhost:8080/"
        },
        "id": "MwfA1yhvmnnE",
        "outputId": "92b9f3fe-badd-4371-b22d-207736937e74"
      },
      "execution_count": 239,
      "outputs": [
        {
          "output_type": "stream",
          "name": "stdout",
          "text": [
            "Kolom TransactionAmount memiliki 114 outlier\n",
            "Imputasi nilai outlier di kolom TransactionAmount dengan median 199.84\n",
            "Kolom CustomerAge memiliki 0 outlier\n",
            "Kolom TransactionDuration memiliki 0 outlier\n",
            "Kolom LoginAttempts memiliki 120 outlier\n",
            "Imputasi nilai outlier di kolom LoginAttempts dengan median 1.0\n",
            "Kolom AccountBalance memiliki 0 outlier\n",
            "Handling outlier selesai.\n"
          ]
        }
      ]
    },
    {
      "cell_type": "markdown",
      "source": [
        "### melakukan binning pada kolom numeric"
      ],
      "metadata": {
        "id": "MVeFOTqFn4MM"
      }
    },
    {
      "cell_type": "code",
      "source": [
        "# Cek apakah kolom sudah bertipe category sebelum melakukan binning\n",
        "if not (pd.api.types.is_categorical_dtype(df_new['CustomerAge']) and\n",
        "        pd.api.types.is_categorical_dtype(df_new['TransactionAmount'])):\n",
        "    df_new['CustomerAge'] = pd.cut(df_new['CustomerAge'], bins=[0, 25, 45, 100], labels=['Young', 'Middle', 'Old'])\n",
        "    df_new['TransactionAmount'] = pd.cut(df_new['TransactionAmount'], bins=[0, 100, 500, 10000], labels=['Low', 'Mid', 'High'])\n",
        "    print(\"Binning applied.\")\n",
        "else:\n",
        "    print(\"Binning already applied.\")"
      ],
      "metadata": {
        "colab": {
          "base_uri": "https://localhost:8080/"
        },
        "id": "Snj2XqBnn91k",
        "outputId": "ce6e3908-102b-4887-e2bd-0978342aada8"
      },
      "execution_count": 240,
      "outputs": [
        {
          "output_type": "stream",
          "name": "stdout",
          "text": [
            "Binning applied.\n"
          ]
        },
        {
          "output_type": "stream",
          "name": "stderr",
          "text": [
            "<ipython-input-240-212ad6cb1fe1>:2: DeprecationWarning: is_categorical_dtype is deprecated and will be removed in a future version. Use isinstance(dtype, pd.CategoricalDtype) instead\n",
            "  if not (pd.api.types.is_categorical_dtype(df_new['CustomerAge']) and\n"
          ]
        }
      ]
    },
    {
      "cell_type": "code",
      "source": [
        "df_new.head()"
      ],
      "metadata": {
        "colab": {
          "base_uri": "https://localhost:8080/",
          "height": 206
        },
        "id": "KaTTTu3noIx7",
        "outputId": "4a947c4a-9210-4350-8ff5-9d9cca2f0c3b"
      },
      "execution_count": 241,
      "outputs": [
        {
          "output_type": "execute_result",
          "data": {
            "text/plain": [
              "  TransactionAmount TransactionType   Location Channel CustomerAge  \\\n",
              "0               Low           Debit  San Diego     ATM         Old   \n",
              "1               Mid           Debit    Houston     ATM         Old   \n",
              "2               Mid           Debit       Mesa  Online       Young   \n",
              "3               Mid           Debit    Raleigh  Online      Middle   \n",
              "4               Low          Credit    Atlanta  Online      Middle   \n",
              "\n",
              "  CustomerOccupation  TransactionDuration  LoginAttempts  AccountBalance  \n",
              "0             Doctor                 81.0            1.0         5112.21  \n",
              "1             Doctor                141.0            1.0        13758.91  \n",
              "2            Student                 56.0            1.0         1122.35  \n",
              "3            Student                 25.0            1.0         8569.06  \n",
              "4            Student                198.0            1.0         7429.40  "
            ],
            "text/html": [
              "\n",
              "  <div id=\"df-5d036f80-1011-4695-862e-944997c5bf65\" class=\"colab-df-container\">\n",
              "    <div>\n",
              "<style scoped>\n",
              "    .dataframe tbody tr th:only-of-type {\n",
              "        vertical-align: middle;\n",
              "    }\n",
              "\n",
              "    .dataframe tbody tr th {\n",
              "        vertical-align: top;\n",
              "    }\n",
              "\n",
              "    .dataframe thead th {\n",
              "        text-align: right;\n",
              "    }\n",
              "</style>\n",
              "<table border=\"1\" class=\"dataframe\">\n",
              "  <thead>\n",
              "    <tr style=\"text-align: right;\">\n",
              "      <th></th>\n",
              "      <th>TransactionAmount</th>\n",
              "      <th>TransactionType</th>\n",
              "      <th>Location</th>\n",
              "      <th>Channel</th>\n",
              "      <th>CustomerAge</th>\n",
              "      <th>CustomerOccupation</th>\n",
              "      <th>TransactionDuration</th>\n",
              "      <th>LoginAttempts</th>\n",
              "      <th>AccountBalance</th>\n",
              "    </tr>\n",
              "  </thead>\n",
              "  <tbody>\n",
              "    <tr>\n",
              "      <th>0</th>\n",
              "      <td>Low</td>\n",
              "      <td>Debit</td>\n",
              "      <td>San Diego</td>\n",
              "      <td>ATM</td>\n",
              "      <td>Old</td>\n",
              "      <td>Doctor</td>\n",
              "      <td>81.0</td>\n",
              "      <td>1.0</td>\n",
              "      <td>5112.21</td>\n",
              "    </tr>\n",
              "    <tr>\n",
              "      <th>1</th>\n",
              "      <td>Mid</td>\n",
              "      <td>Debit</td>\n",
              "      <td>Houston</td>\n",
              "      <td>ATM</td>\n",
              "      <td>Old</td>\n",
              "      <td>Doctor</td>\n",
              "      <td>141.0</td>\n",
              "      <td>1.0</td>\n",
              "      <td>13758.91</td>\n",
              "    </tr>\n",
              "    <tr>\n",
              "      <th>2</th>\n",
              "      <td>Mid</td>\n",
              "      <td>Debit</td>\n",
              "      <td>Mesa</td>\n",
              "      <td>Online</td>\n",
              "      <td>Young</td>\n",
              "      <td>Student</td>\n",
              "      <td>56.0</td>\n",
              "      <td>1.0</td>\n",
              "      <td>1122.35</td>\n",
              "    </tr>\n",
              "    <tr>\n",
              "      <th>3</th>\n",
              "      <td>Mid</td>\n",
              "      <td>Debit</td>\n",
              "      <td>Raleigh</td>\n",
              "      <td>Online</td>\n",
              "      <td>Middle</td>\n",
              "      <td>Student</td>\n",
              "      <td>25.0</td>\n",
              "      <td>1.0</td>\n",
              "      <td>8569.06</td>\n",
              "    </tr>\n",
              "    <tr>\n",
              "      <th>4</th>\n",
              "      <td>Low</td>\n",
              "      <td>Credit</td>\n",
              "      <td>Atlanta</td>\n",
              "      <td>Online</td>\n",
              "      <td>Middle</td>\n",
              "      <td>Student</td>\n",
              "      <td>198.0</td>\n",
              "      <td>1.0</td>\n",
              "      <td>7429.40</td>\n",
              "    </tr>\n",
              "  </tbody>\n",
              "</table>\n",
              "</div>\n",
              "    <div class=\"colab-df-buttons\">\n",
              "\n",
              "  <div class=\"colab-df-container\">\n",
              "    <button class=\"colab-df-convert\" onclick=\"convertToInteractive('df-5d036f80-1011-4695-862e-944997c5bf65')\"\n",
              "            title=\"Convert this dataframe to an interactive table.\"\n",
              "            style=\"display:none;\">\n",
              "\n",
              "  <svg xmlns=\"http://www.w3.org/2000/svg\" height=\"24px\" viewBox=\"0 -960 960 960\">\n",
              "    <path d=\"M120-120v-720h720v720H120Zm60-500h600v-160H180v160Zm220 220h160v-160H400v160Zm0 220h160v-160H400v160ZM180-400h160v-160H180v160Zm440 0h160v-160H620v160ZM180-180h160v-160H180v160Zm440 0h160v-160H620v160Z\"/>\n",
              "  </svg>\n",
              "    </button>\n",
              "\n",
              "  <style>\n",
              "    .colab-df-container {\n",
              "      display:flex;\n",
              "      gap: 12px;\n",
              "    }\n",
              "\n",
              "    .colab-df-convert {\n",
              "      background-color: #E8F0FE;\n",
              "      border: none;\n",
              "      border-radius: 50%;\n",
              "      cursor: pointer;\n",
              "      display: none;\n",
              "      fill: #1967D2;\n",
              "      height: 32px;\n",
              "      padding: 0 0 0 0;\n",
              "      width: 32px;\n",
              "    }\n",
              "\n",
              "    .colab-df-convert:hover {\n",
              "      background-color: #E2EBFA;\n",
              "      box-shadow: 0px 1px 2px rgba(60, 64, 67, 0.3), 0px 1px 3px 1px rgba(60, 64, 67, 0.15);\n",
              "      fill: #174EA6;\n",
              "    }\n",
              "\n",
              "    .colab-df-buttons div {\n",
              "      margin-bottom: 4px;\n",
              "    }\n",
              "\n",
              "    [theme=dark] .colab-df-convert {\n",
              "      background-color: #3B4455;\n",
              "      fill: #D2E3FC;\n",
              "    }\n",
              "\n",
              "    [theme=dark] .colab-df-convert:hover {\n",
              "      background-color: #434B5C;\n",
              "      box-shadow: 0px 1px 3px 1px rgba(0, 0, 0, 0.15);\n",
              "      filter: drop-shadow(0px 1px 2px rgba(0, 0, 0, 0.3));\n",
              "      fill: #FFFFFF;\n",
              "    }\n",
              "  </style>\n",
              "\n",
              "    <script>\n",
              "      const buttonEl =\n",
              "        document.querySelector('#df-5d036f80-1011-4695-862e-944997c5bf65 button.colab-df-convert');\n",
              "      buttonEl.style.display =\n",
              "        google.colab.kernel.accessAllowed ? 'block' : 'none';\n",
              "\n",
              "      async function convertToInteractive(key) {\n",
              "        const element = document.querySelector('#df-5d036f80-1011-4695-862e-944997c5bf65');\n",
              "        const dataTable =\n",
              "          await google.colab.kernel.invokeFunction('convertToInteractive',\n",
              "                                                    [key], {});\n",
              "        if (!dataTable) return;\n",
              "\n",
              "        const docLinkHtml = 'Like what you see? Visit the ' +\n",
              "          '<a target=\"_blank\" href=https://colab.research.google.com/notebooks/data_table.ipynb>data table notebook</a>'\n",
              "          + ' to learn more about interactive tables.';\n",
              "        element.innerHTML = '';\n",
              "        dataTable['output_type'] = 'display_data';\n",
              "        await google.colab.output.renderOutput(dataTable, element);\n",
              "        const docLink = document.createElement('div');\n",
              "        docLink.innerHTML = docLinkHtml;\n",
              "        element.appendChild(docLink);\n",
              "      }\n",
              "    </script>\n",
              "  </div>\n",
              "\n",
              "\n",
              "    <div id=\"df-becd6cd4-4cf1-4e2c-a39b-6a32cd6c787a\">\n",
              "      <button class=\"colab-df-quickchart\" onclick=\"quickchart('df-becd6cd4-4cf1-4e2c-a39b-6a32cd6c787a')\"\n",
              "                title=\"Suggest charts\"\n",
              "                style=\"display:none;\">\n",
              "\n",
              "<svg xmlns=\"http://www.w3.org/2000/svg\" height=\"24px\"viewBox=\"0 0 24 24\"\n",
              "     width=\"24px\">\n",
              "    <g>\n",
              "        <path d=\"M19 3H5c-1.1 0-2 .9-2 2v14c0 1.1.9 2 2 2h14c1.1 0 2-.9 2-2V5c0-1.1-.9-2-2-2zM9 17H7v-7h2v7zm4 0h-2V7h2v10zm4 0h-2v-4h2v4z\"/>\n",
              "    </g>\n",
              "</svg>\n",
              "      </button>\n",
              "\n",
              "<style>\n",
              "  .colab-df-quickchart {\n",
              "      --bg-color: #E8F0FE;\n",
              "      --fill-color: #1967D2;\n",
              "      --hover-bg-color: #E2EBFA;\n",
              "      --hover-fill-color: #174EA6;\n",
              "      --disabled-fill-color: #AAA;\n",
              "      --disabled-bg-color: #DDD;\n",
              "  }\n",
              "\n",
              "  [theme=dark] .colab-df-quickchart {\n",
              "      --bg-color: #3B4455;\n",
              "      --fill-color: #D2E3FC;\n",
              "      --hover-bg-color: #434B5C;\n",
              "      --hover-fill-color: #FFFFFF;\n",
              "      --disabled-bg-color: #3B4455;\n",
              "      --disabled-fill-color: #666;\n",
              "  }\n",
              "\n",
              "  .colab-df-quickchart {\n",
              "    background-color: var(--bg-color);\n",
              "    border: none;\n",
              "    border-radius: 50%;\n",
              "    cursor: pointer;\n",
              "    display: none;\n",
              "    fill: var(--fill-color);\n",
              "    height: 32px;\n",
              "    padding: 0;\n",
              "    width: 32px;\n",
              "  }\n",
              "\n",
              "  .colab-df-quickchart:hover {\n",
              "    background-color: var(--hover-bg-color);\n",
              "    box-shadow: 0 1px 2px rgba(60, 64, 67, 0.3), 0 1px 3px 1px rgba(60, 64, 67, 0.15);\n",
              "    fill: var(--button-hover-fill-color);\n",
              "  }\n",
              "\n",
              "  .colab-df-quickchart-complete:disabled,\n",
              "  .colab-df-quickchart-complete:disabled:hover {\n",
              "    background-color: var(--disabled-bg-color);\n",
              "    fill: var(--disabled-fill-color);\n",
              "    box-shadow: none;\n",
              "  }\n",
              "\n",
              "  .colab-df-spinner {\n",
              "    border: 2px solid var(--fill-color);\n",
              "    border-color: transparent;\n",
              "    border-bottom-color: var(--fill-color);\n",
              "    animation:\n",
              "      spin 1s steps(1) infinite;\n",
              "  }\n",
              "\n",
              "  @keyframes spin {\n",
              "    0% {\n",
              "      border-color: transparent;\n",
              "      border-bottom-color: var(--fill-color);\n",
              "      border-left-color: var(--fill-color);\n",
              "    }\n",
              "    20% {\n",
              "      border-color: transparent;\n",
              "      border-left-color: var(--fill-color);\n",
              "      border-top-color: var(--fill-color);\n",
              "    }\n",
              "    30% {\n",
              "      border-color: transparent;\n",
              "      border-left-color: var(--fill-color);\n",
              "      border-top-color: var(--fill-color);\n",
              "      border-right-color: var(--fill-color);\n",
              "    }\n",
              "    40% {\n",
              "      border-color: transparent;\n",
              "      border-right-color: var(--fill-color);\n",
              "      border-top-color: var(--fill-color);\n",
              "    }\n",
              "    60% {\n",
              "      border-color: transparent;\n",
              "      border-right-color: var(--fill-color);\n",
              "    }\n",
              "    80% {\n",
              "      border-color: transparent;\n",
              "      border-right-color: var(--fill-color);\n",
              "      border-bottom-color: var(--fill-color);\n",
              "    }\n",
              "    90% {\n",
              "      border-color: transparent;\n",
              "      border-bottom-color: var(--fill-color);\n",
              "    }\n",
              "  }\n",
              "</style>\n",
              "\n",
              "      <script>\n",
              "        async function quickchart(key) {\n",
              "          const quickchartButtonEl =\n",
              "            document.querySelector('#' + key + ' button');\n",
              "          quickchartButtonEl.disabled = true;  // To prevent multiple clicks.\n",
              "          quickchartButtonEl.classList.add('colab-df-spinner');\n",
              "          try {\n",
              "            const charts = await google.colab.kernel.invokeFunction(\n",
              "                'suggestCharts', [key], {});\n",
              "          } catch (error) {\n",
              "            console.error('Error during call to suggestCharts:', error);\n",
              "          }\n",
              "          quickchartButtonEl.classList.remove('colab-df-spinner');\n",
              "          quickchartButtonEl.classList.add('colab-df-quickchart-complete');\n",
              "        }\n",
              "        (() => {\n",
              "          let quickchartButtonEl =\n",
              "            document.querySelector('#df-becd6cd4-4cf1-4e2c-a39b-6a32cd6c787a button');\n",
              "          quickchartButtonEl.style.display =\n",
              "            google.colab.kernel.accessAllowed ? 'block' : 'none';\n",
              "        })();\n",
              "      </script>\n",
              "    </div>\n",
              "\n",
              "    </div>\n",
              "  </div>\n"
            ],
            "application/vnd.google.colaboratory.intrinsic+json": {
              "type": "dataframe",
              "variable_name": "df_new",
              "summary": "{\n  \"name\": \"df_new\",\n  \"rows\": 2537,\n  \"fields\": [\n    {\n      \"column\": \"TransactionAmount\",\n      \"properties\": {\n        \"dtype\": \"category\",\n        \"num_unique_values\": 3,\n        \"samples\": [\n          \"Low\",\n          \"Mid\",\n          \"High\"\n        ],\n        \"semantic_type\": \"\",\n        \"description\": \"\"\n      }\n    },\n    {\n      \"column\": \"TransactionType\",\n      \"properties\": {\n        \"dtype\": \"category\",\n        \"num_unique_values\": 2,\n        \"samples\": [\n          \"Credit\",\n          \"Debit\"\n        ],\n        \"semantic_type\": \"\",\n        \"description\": \"\"\n      }\n    },\n    {\n      \"column\": \"Location\",\n      \"properties\": {\n        \"dtype\": \"category\",\n        \"num_unique_values\": 43,\n        \"samples\": [\n          \"Phoenix\",\n          \"San Jose\"\n        ],\n        \"semantic_type\": \"\",\n        \"description\": \"\"\n      }\n    },\n    {\n      \"column\": \"Channel\",\n      \"properties\": {\n        \"dtype\": \"category\",\n        \"num_unique_values\": 3,\n        \"samples\": [\n          \"ATM\",\n          \"Online\"\n        ],\n        \"semantic_type\": \"\",\n        \"description\": \"\"\n      }\n    },\n    {\n      \"column\": \"CustomerAge\",\n      \"properties\": {\n        \"dtype\": \"category\",\n        \"num_unique_values\": 3,\n        \"samples\": [\n          \"Old\",\n          \"Young\"\n        ],\n        \"semantic_type\": \"\",\n        \"description\": \"\"\n      }\n    },\n    {\n      \"column\": \"CustomerOccupation\",\n      \"properties\": {\n        \"dtype\": \"category\",\n        \"num_unique_values\": 4,\n        \"samples\": [\n          \"Student\",\n          \"Engineer\"\n        ],\n        \"semantic_type\": \"\",\n        \"description\": \"\"\n      }\n    },\n    {\n      \"column\": \"TransactionDuration\",\n      \"properties\": {\n        \"dtype\": \"number\",\n        \"std\": 69.72236163514911,\n        \"min\": 10.0,\n        \"max\": 300.0,\n        \"num_unique_values\": 288,\n        \"samples\": [\n          138.0,\n          42.0\n        ],\n        \"semantic_type\": \"\",\n        \"description\": \"\"\n      }\n    },\n    {\n      \"column\": \"LoginAttempts\",\n      \"properties\": {\n        \"dtype\": \"number\",\n        \"std\": 0.0,\n        \"min\": 1.0,\n        \"max\": 1.0,\n        \"num_unique_values\": 1,\n        \"samples\": [\n          1.0\n        ],\n        \"semantic_type\": \"\",\n        \"description\": \"\"\n      }\n    },\n    {\n      \"column\": \"AccountBalance\",\n      \"properties\": {\n        \"dtype\": \"number\",\n        \"std\": 3877.365521322758,\n        \"min\": 101.25,\n        \"max\": 14977.99,\n        \"num_unique_values\": 2484,\n        \"samples\": [\n          5579.11\n        ],\n        \"semantic_type\": \"\",\n        \"description\": \"\"\n      }\n    }\n  ]\n}"
            }
          },
          "metadata": {},
          "execution_count": 241
        }
      ]
    },
    {
      "cell_type": "code",
      "source": [
        "df_new.info()"
      ],
      "metadata": {
        "colab": {
          "base_uri": "https://localhost:8080/"
        },
        "id": "hVjDbPsgqGbv",
        "outputId": "7ebed4f0-7f14-4fbb-abea-d54ab41e014b"
      },
      "execution_count": 242,
      "outputs": [
        {
          "output_type": "stream",
          "name": "stdout",
          "text": [
            "<class 'pandas.core.frame.DataFrame'>\n",
            "RangeIndex: 2537 entries, 0 to 2536\n",
            "Data columns (total 9 columns):\n",
            " #   Column               Non-Null Count  Dtype   \n",
            "---  ------               --------------  -----   \n",
            " 0   TransactionAmount    2537 non-null   category\n",
            " 1   TransactionType      2537 non-null   object  \n",
            " 2   Location             2537 non-null   object  \n",
            " 3   Channel              2537 non-null   object  \n",
            " 4   CustomerAge          2537 non-null   category\n",
            " 5   CustomerOccupation   2537 non-null   object  \n",
            " 6   TransactionDuration  2537 non-null   float64 \n",
            " 7   LoginAttempts        2537 non-null   float64 \n",
            " 8   AccountBalance       2537 non-null   float64 \n",
            "dtypes: category(2), float64(3), object(4)\n",
            "memory usage: 144.1+ KB\n"
          ]
        }
      ]
    },
    {
      "cell_type": "markdown",
      "source": [
        "### melakukan encoding terhadap fitur kategorikal"
      ],
      "metadata": {
        "id": "pKUjJwyzl3wU"
      }
    },
    {
      "cell_type": "code",
      "source": [
        "# Mendapatkan kolom kategorikal\n",
        "categorical_column = df_new.select_dtypes(include=['object', 'category']).columns.tolist()\n",
        "\n",
        "# Lakukan One-Hot Encoding menggunakan pd.get_dummies()\n",
        "df_new = pd.get_dummies(df_new, columns=categorical_column, drop_first=True)\n",
        "\n",
        "# Tampilkan beberapa baris hasil encoding\n",
        "print(\"Kolom yang diencode:\", categorical_column)"
      ],
      "metadata": {
        "colab": {
          "base_uri": "https://localhost:8080/"
        },
        "id": "Sr5NcHn1l97C",
        "outputId": "ab010ca3-0b45-4da4-f5dc-4adad59b2f0a"
      },
      "execution_count": 243,
      "outputs": [
        {
          "output_type": "stream",
          "name": "stdout",
          "text": [
            "Kolom yang diencode: ['TransactionAmount', 'TransactionType', 'Location', 'Channel', 'CustomerAge', 'CustomerOccupation']\n"
          ]
        }
      ]
    },
    {
      "cell_type": "markdown",
      "source": [
        "## melakukan un-binning"
      ],
      "metadata": {
        "id": "L-GE1E7bDijk"
      }
    },
    {
      "cell_type": "code",
      "source": [
        "# Replace the binned columns in df_new with the original numerical columns from df\n",
        "df_new['CustomerAge'] = df['CustomerAge']\n",
        "df_new['TransactionAmount'] = df['TransactionAmount']\n",
        "\n",
        "# Verify the changes by checking the data types\n",
        "print(df_new[['CustomerAge', 'TransactionAmount']].dtypes)"
      ],
      "metadata": {
        "colab": {
          "base_uri": "https://localhost:8080/"
        },
        "id": "5qE7kBf8DsJw",
        "outputId": "cf50e30f-47c0-4275-8843-ebeedc182e08"
      },
      "execution_count": 244,
      "outputs": [
        {
          "output_type": "stream",
          "name": "stdout",
          "text": [
            "CustomerAge          float64\n",
            "TransactionAmount    float64\n",
            "dtype: object\n"
          ]
        }
      ]
    },
    {
      "cell_type": "markdown",
      "source": [
        "### melakukan Standarisasi"
      ],
      "metadata": {
        "id": "SHIeoEogjhTD"
      }
    },
    {
      "cell_type": "code",
      "source": [
        "# Inisialisasi scaler\n",
        "scaler = StandardScaler()\n",
        "# Pilih column numerik\n",
        "numerical_columns = ['TransactionDuration','LoginAttempts','AccountBalance','TransactionAmount','AccountBalance']\n",
        "# Fit scaler pada data dan transform fitur numerik yang relevan\n",
        "df_new[numerical_columns] = scaler.fit_transform(df_new[numerical_columns])\n",
        "\n",
        "# Cek hasil scaling dengan melihat rata-rata dan standar deviasi (harus mendekati 0 dan 1)\n",
        "print(\"Rata-rata setelah scaling:\")\n",
        "print(df_new[numerical_columns].mean())\n",
        "print(\"\\nStandar deviasi setelah scaling:\")\n",
        "print(df_new[numerical_columns].std())"
      ],
      "metadata": {
        "colab": {
          "base_uri": "https://localhost:8080/"
        },
        "id": "JUKuDsfhjf2x",
        "outputId": "466cf99e-2a31-4d77-b8ee-11c6dda1f7f6"
      },
      "execution_count": 245,
      "outputs": [
        {
          "output_type": "stream",
          "name": "stdout",
          "text": [
            "Rata-rata setelah scaling:\n",
            "TransactionDuration    4.481152e-17\n",
            "LoginAttempts          0.000000e+00\n",
            "AccountBalance        -6.721729e-17\n",
            "TransactionAmount      3.360864e-17\n",
            "AccountBalance        -6.721729e-17\n",
            "dtype: float64\n",
            "\n",
            "Standar deviasi setelah scaling:\n",
            "TransactionDuration    1.000197\n",
            "LoginAttempts          0.000000\n",
            "AccountBalance         1.000197\n",
            "TransactionAmount      1.000197\n",
            "AccountBalance         1.000197\n",
            "dtype: float64\n"
          ]
        }
      ]
    },
    {
      "cell_type": "markdown",
      "source": [
        "(Opsional) Pembersihan dan Pra Pemrosesan Data [Advanced]\n",
        "\n",
        "**Biarkan kosong jika tidak menerapkan kriteria advanced**"
      ],
      "metadata": {
        "id": "H5RrswThwQrC"
      }
    },
    {
      "cell_type": "markdown",
      "source": [
        "# **4. Membangun Model Clustering**\n",
        "Pada tahap ini, Anda membangun model clustering dengan memilih algoritma yang sesuai untuk mengelompokkan data berdasarkan kesamaan.\n",
        "1. Melakukan visualisasi Elbow Method untuk menentukan jumlah cluster terbaik menggunakan `KElbowVisualizer()`.\n",
        "2. Menggunakan algoritma K-Means Clustering dengan `sklearn.cluster.KMeans()`.\n",
        "3. Jalankan cell code `joblib.dump(model_kmeans, \"best_model_clustering.h5\")` untuk menyimpan model yang sudah dibuat."
      ],
      "metadata": {
        "id": "Fkd_QHXWMBDr"
      }
    },
    {
      "cell_type": "code",
      "source": [
        "df_new.describe()"
      ],
      "metadata": {
        "id": "hYHmRnb42A1P",
        "colab": {
          "base_uri": "https://localhost:8080/",
          "height": 300
        },
        "outputId": "ecbc0eeb-ff37-4428-f16b-8b91dba57dad"
      },
      "execution_count": 246,
      "outputs": [
        {
          "output_type": "execute_result",
          "data": {
            "text/plain": [
              "       TransactionDuration  LoginAttempts  AccountBalance  CustomerAge  \\\n",
              "count         2.537000e+03         2537.0    2.537000e+03  2537.000000   \n",
              "mean          4.481152e-17            0.0   -6.721729e-17    44.680725   \n",
              "std           1.000197e+00            0.0    1.000197e+00    17.773964   \n",
              "min          -1.568628e+00            0.0   -1.291892e+00    18.000000   \n",
              "25%          -8.083199e-01            0.0   -9.260821e-01    27.000000   \n",
              "50%          -1.053939e-01            0.0   -9.680932e-02    45.000000   \n",
              "75%           5.975320e-01            0.0    6.494449e-01    59.000000   \n",
              "max           2.591547e+00            0.0    2.545681e+00    80.000000   \n",
              "\n",
              "       TransactionAmount  \n",
              "count       2.537000e+03  \n",
              "mean        3.360864e-17  \n",
              "std         1.000197e+00  \n",
              "min        -1.019639e+00  \n",
              "25%        -7.348737e-01  \n",
              "50%        -2.937130e-01  \n",
              "75%         3.880244e-01  \n",
              "max         5.578858e+00  "
            ],
            "text/html": [
              "\n",
              "  <div id=\"df-0ec5b552-c2fd-4724-b950-382149ac1f7b\" class=\"colab-df-container\">\n",
              "    <div>\n",
              "<style scoped>\n",
              "    .dataframe tbody tr th:only-of-type {\n",
              "        vertical-align: middle;\n",
              "    }\n",
              "\n",
              "    .dataframe tbody tr th {\n",
              "        vertical-align: top;\n",
              "    }\n",
              "\n",
              "    .dataframe thead th {\n",
              "        text-align: right;\n",
              "    }\n",
              "</style>\n",
              "<table border=\"1\" class=\"dataframe\">\n",
              "  <thead>\n",
              "    <tr style=\"text-align: right;\">\n",
              "      <th></th>\n",
              "      <th>TransactionDuration</th>\n",
              "      <th>LoginAttempts</th>\n",
              "      <th>AccountBalance</th>\n",
              "      <th>CustomerAge</th>\n",
              "      <th>TransactionAmount</th>\n",
              "    </tr>\n",
              "  </thead>\n",
              "  <tbody>\n",
              "    <tr>\n",
              "      <th>count</th>\n",
              "      <td>2.537000e+03</td>\n",
              "      <td>2537.0</td>\n",
              "      <td>2.537000e+03</td>\n",
              "      <td>2537.000000</td>\n",
              "      <td>2.537000e+03</td>\n",
              "    </tr>\n",
              "    <tr>\n",
              "      <th>mean</th>\n",
              "      <td>4.481152e-17</td>\n",
              "      <td>0.0</td>\n",
              "      <td>-6.721729e-17</td>\n",
              "      <td>44.680725</td>\n",
              "      <td>3.360864e-17</td>\n",
              "    </tr>\n",
              "    <tr>\n",
              "      <th>std</th>\n",
              "      <td>1.000197e+00</td>\n",
              "      <td>0.0</td>\n",
              "      <td>1.000197e+00</td>\n",
              "      <td>17.773964</td>\n",
              "      <td>1.000197e+00</td>\n",
              "    </tr>\n",
              "    <tr>\n",
              "      <th>min</th>\n",
              "      <td>-1.568628e+00</td>\n",
              "      <td>0.0</td>\n",
              "      <td>-1.291892e+00</td>\n",
              "      <td>18.000000</td>\n",
              "      <td>-1.019639e+00</td>\n",
              "    </tr>\n",
              "    <tr>\n",
              "      <th>25%</th>\n",
              "      <td>-8.083199e-01</td>\n",
              "      <td>0.0</td>\n",
              "      <td>-9.260821e-01</td>\n",
              "      <td>27.000000</td>\n",
              "      <td>-7.348737e-01</td>\n",
              "    </tr>\n",
              "    <tr>\n",
              "      <th>50%</th>\n",
              "      <td>-1.053939e-01</td>\n",
              "      <td>0.0</td>\n",
              "      <td>-9.680932e-02</td>\n",
              "      <td>45.000000</td>\n",
              "      <td>-2.937130e-01</td>\n",
              "    </tr>\n",
              "    <tr>\n",
              "      <th>75%</th>\n",
              "      <td>5.975320e-01</td>\n",
              "      <td>0.0</td>\n",
              "      <td>6.494449e-01</td>\n",
              "      <td>59.000000</td>\n",
              "      <td>3.880244e-01</td>\n",
              "    </tr>\n",
              "    <tr>\n",
              "      <th>max</th>\n",
              "      <td>2.591547e+00</td>\n",
              "      <td>0.0</td>\n",
              "      <td>2.545681e+00</td>\n",
              "      <td>80.000000</td>\n",
              "      <td>5.578858e+00</td>\n",
              "    </tr>\n",
              "  </tbody>\n",
              "</table>\n",
              "</div>\n",
              "    <div class=\"colab-df-buttons\">\n",
              "\n",
              "  <div class=\"colab-df-container\">\n",
              "    <button class=\"colab-df-convert\" onclick=\"convertToInteractive('df-0ec5b552-c2fd-4724-b950-382149ac1f7b')\"\n",
              "            title=\"Convert this dataframe to an interactive table.\"\n",
              "            style=\"display:none;\">\n",
              "\n",
              "  <svg xmlns=\"http://www.w3.org/2000/svg\" height=\"24px\" viewBox=\"0 -960 960 960\">\n",
              "    <path d=\"M120-120v-720h720v720H120Zm60-500h600v-160H180v160Zm220 220h160v-160H400v160Zm0 220h160v-160H400v160ZM180-400h160v-160H180v160Zm440 0h160v-160H620v160ZM180-180h160v-160H180v160Zm440 0h160v-160H620v160Z\"/>\n",
              "  </svg>\n",
              "    </button>\n",
              "\n",
              "  <style>\n",
              "    .colab-df-container {\n",
              "      display:flex;\n",
              "      gap: 12px;\n",
              "    }\n",
              "\n",
              "    .colab-df-convert {\n",
              "      background-color: #E8F0FE;\n",
              "      border: none;\n",
              "      border-radius: 50%;\n",
              "      cursor: pointer;\n",
              "      display: none;\n",
              "      fill: #1967D2;\n",
              "      height: 32px;\n",
              "      padding: 0 0 0 0;\n",
              "      width: 32px;\n",
              "    }\n",
              "\n",
              "    .colab-df-convert:hover {\n",
              "      background-color: #E2EBFA;\n",
              "      box-shadow: 0px 1px 2px rgba(60, 64, 67, 0.3), 0px 1px 3px 1px rgba(60, 64, 67, 0.15);\n",
              "      fill: #174EA6;\n",
              "    }\n",
              "\n",
              "    .colab-df-buttons div {\n",
              "      margin-bottom: 4px;\n",
              "    }\n",
              "\n",
              "    [theme=dark] .colab-df-convert {\n",
              "      background-color: #3B4455;\n",
              "      fill: #D2E3FC;\n",
              "    }\n",
              "\n",
              "    [theme=dark] .colab-df-convert:hover {\n",
              "      background-color: #434B5C;\n",
              "      box-shadow: 0px 1px 3px 1px rgba(0, 0, 0, 0.15);\n",
              "      filter: drop-shadow(0px 1px 2px rgba(0, 0, 0, 0.3));\n",
              "      fill: #FFFFFF;\n",
              "    }\n",
              "  </style>\n",
              "\n",
              "    <script>\n",
              "      const buttonEl =\n",
              "        document.querySelector('#df-0ec5b552-c2fd-4724-b950-382149ac1f7b button.colab-df-convert');\n",
              "      buttonEl.style.display =\n",
              "        google.colab.kernel.accessAllowed ? 'block' : 'none';\n",
              "\n",
              "      async function convertToInteractive(key) {\n",
              "        const element = document.querySelector('#df-0ec5b552-c2fd-4724-b950-382149ac1f7b');\n",
              "        const dataTable =\n",
              "          await google.colab.kernel.invokeFunction('convertToInteractive',\n",
              "                                                    [key], {});\n",
              "        if (!dataTable) return;\n",
              "\n",
              "        const docLinkHtml = 'Like what you see? Visit the ' +\n",
              "          '<a target=\"_blank\" href=https://colab.research.google.com/notebooks/data_table.ipynb>data table notebook</a>'\n",
              "          + ' to learn more about interactive tables.';\n",
              "        element.innerHTML = '';\n",
              "        dataTable['output_type'] = 'display_data';\n",
              "        await google.colab.output.renderOutput(dataTable, element);\n",
              "        const docLink = document.createElement('div');\n",
              "        docLink.innerHTML = docLinkHtml;\n",
              "        element.appendChild(docLink);\n",
              "      }\n",
              "    </script>\n",
              "  </div>\n",
              "\n",
              "\n",
              "    <div id=\"df-35e9f392-9225-4a6f-9f94-2d2a0528fd70\">\n",
              "      <button class=\"colab-df-quickchart\" onclick=\"quickchart('df-35e9f392-9225-4a6f-9f94-2d2a0528fd70')\"\n",
              "                title=\"Suggest charts\"\n",
              "                style=\"display:none;\">\n",
              "\n",
              "<svg xmlns=\"http://www.w3.org/2000/svg\" height=\"24px\"viewBox=\"0 0 24 24\"\n",
              "     width=\"24px\">\n",
              "    <g>\n",
              "        <path d=\"M19 3H5c-1.1 0-2 .9-2 2v14c0 1.1.9 2 2 2h14c1.1 0 2-.9 2-2V5c0-1.1-.9-2-2-2zM9 17H7v-7h2v7zm4 0h-2V7h2v10zm4 0h-2v-4h2v4z\"/>\n",
              "    </g>\n",
              "</svg>\n",
              "      </button>\n",
              "\n",
              "<style>\n",
              "  .colab-df-quickchart {\n",
              "      --bg-color: #E8F0FE;\n",
              "      --fill-color: #1967D2;\n",
              "      --hover-bg-color: #E2EBFA;\n",
              "      --hover-fill-color: #174EA6;\n",
              "      --disabled-fill-color: #AAA;\n",
              "      --disabled-bg-color: #DDD;\n",
              "  }\n",
              "\n",
              "  [theme=dark] .colab-df-quickchart {\n",
              "      --bg-color: #3B4455;\n",
              "      --fill-color: #D2E3FC;\n",
              "      --hover-bg-color: #434B5C;\n",
              "      --hover-fill-color: #FFFFFF;\n",
              "      --disabled-bg-color: #3B4455;\n",
              "      --disabled-fill-color: #666;\n",
              "  }\n",
              "\n",
              "  .colab-df-quickchart {\n",
              "    background-color: var(--bg-color);\n",
              "    border: none;\n",
              "    border-radius: 50%;\n",
              "    cursor: pointer;\n",
              "    display: none;\n",
              "    fill: var(--fill-color);\n",
              "    height: 32px;\n",
              "    padding: 0;\n",
              "    width: 32px;\n",
              "  }\n",
              "\n",
              "  .colab-df-quickchart:hover {\n",
              "    background-color: var(--hover-bg-color);\n",
              "    box-shadow: 0 1px 2px rgba(60, 64, 67, 0.3), 0 1px 3px 1px rgba(60, 64, 67, 0.15);\n",
              "    fill: var(--button-hover-fill-color);\n",
              "  }\n",
              "\n",
              "  .colab-df-quickchart-complete:disabled,\n",
              "  .colab-df-quickchart-complete:disabled:hover {\n",
              "    background-color: var(--disabled-bg-color);\n",
              "    fill: var(--disabled-fill-color);\n",
              "    box-shadow: none;\n",
              "  }\n",
              "\n",
              "  .colab-df-spinner {\n",
              "    border: 2px solid var(--fill-color);\n",
              "    border-color: transparent;\n",
              "    border-bottom-color: var(--fill-color);\n",
              "    animation:\n",
              "      spin 1s steps(1) infinite;\n",
              "  }\n",
              "\n",
              "  @keyframes spin {\n",
              "    0% {\n",
              "      border-color: transparent;\n",
              "      border-bottom-color: var(--fill-color);\n",
              "      border-left-color: var(--fill-color);\n",
              "    }\n",
              "    20% {\n",
              "      border-color: transparent;\n",
              "      border-left-color: var(--fill-color);\n",
              "      border-top-color: var(--fill-color);\n",
              "    }\n",
              "    30% {\n",
              "      border-color: transparent;\n",
              "      border-left-color: var(--fill-color);\n",
              "      border-top-color: var(--fill-color);\n",
              "      border-right-color: var(--fill-color);\n",
              "    }\n",
              "    40% {\n",
              "      border-color: transparent;\n",
              "      border-right-color: var(--fill-color);\n",
              "      border-top-color: var(--fill-color);\n",
              "    }\n",
              "    60% {\n",
              "      border-color: transparent;\n",
              "      border-right-color: var(--fill-color);\n",
              "    }\n",
              "    80% {\n",
              "      border-color: transparent;\n",
              "      border-right-color: var(--fill-color);\n",
              "      border-bottom-color: var(--fill-color);\n",
              "    }\n",
              "    90% {\n",
              "      border-color: transparent;\n",
              "      border-bottom-color: var(--fill-color);\n",
              "    }\n",
              "  }\n",
              "</style>\n",
              "\n",
              "      <script>\n",
              "        async function quickchart(key) {\n",
              "          const quickchartButtonEl =\n",
              "            document.querySelector('#' + key + ' button');\n",
              "          quickchartButtonEl.disabled = true;  // To prevent multiple clicks.\n",
              "          quickchartButtonEl.classList.add('colab-df-spinner');\n",
              "          try {\n",
              "            const charts = await google.colab.kernel.invokeFunction(\n",
              "                'suggestCharts', [key], {});\n",
              "          } catch (error) {\n",
              "            console.error('Error during call to suggestCharts:', error);\n",
              "          }\n",
              "          quickchartButtonEl.classList.remove('colab-df-spinner');\n",
              "          quickchartButtonEl.classList.add('colab-df-quickchart-complete');\n",
              "        }\n",
              "        (() => {\n",
              "          let quickchartButtonEl =\n",
              "            document.querySelector('#df-35e9f392-9225-4a6f-9f94-2d2a0528fd70 button');\n",
              "          quickchartButtonEl.style.display =\n",
              "            google.colab.kernel.accessAllowed ? 'block' : 'none';\n",
              "        })();\n",
              "      </script>\n",
              "    </div>\n",
              "\n",
              "    </div>\n",
              "  </div>\n"
            ],
            "application/vnd.google.colaboratory.intrinsic+json": {
              "type": "dataframe",
              "summary": "{\n  \"name\": \"df_new\",\n  \"rows\": 8,\n  \"fields\": [\n    {\n      \"column\": \"TransactionDuration\",\n      \"properties\": {\n        \"dtype\": \"number\",\n        \"std\": 896.8795974601259,\n        \"min\": -1.5686276341271388,\n        \"max\": 2537.0,\n        \"num_unique_values\": 8,\n        \"samples\": [\n          4.4811524525666545e-17,\n          -0.10539394502959748,\n          2537.0\n        ],\n        \"semantic_type\": \"\",\n        \"description\": \"\"\n      }\n    },\n    {\n      \"column\": \"LoginAttempts\",\n      \"properties\": {\n        \"dtype\": \"number\",\n        \"std\": 896.9649519351356,\n        \"min\": 0.0,\n        \"max\": 2537.0,\n        \"num_unique_values\": 2,\n        \"samples\": [\n          0.0,\n          2537.0\n        ],\n        \"semantic_type\": \"\",\n        \"description\": \"\"\n      }\n    },\n    {\n      \"column\": \"AccountBalance\",\n      \"properties\": {\n        \"dtype\": \"number\",\n        \"std\": 896.8707614921776,\n        \"min\": -1.291892243315368,\n        \"max\": 2537.0,\n        \"num_unique_values\": 8,\n        \"samples\": [\n          -6.721728678849982e-17,\n          -0.09680931825716098\n        ],\n        \"semantic_type\": \"\",\n        \"description\": \"\"\n      }\n    },\n    {\n      \"column\": \"CustomerAge\",\n      \"properties\": {\n        \"dtype\": \"number\",\n        \"std\": 882.4981416291085,\n        \"min\": 17.77396400129158,\n        \"max\": 2537.0,\n        \"num_unique_values\": 8,\n        \"samples\": [\n          44.680725266062275,\n          45.0\n        ],\n        \"semantic_type\": \"\",\n        \"description\": \"\"\n      }\n    },\n    {\n      \"column\": \"TransactionAmount\",\n      \"properties\": {\n        \"dtype\": \"number\",\n        \"std\": 896.7189405291963,\n        \"min\": -1.0196388084160983,\n        \"max\": 2537.0,\n        \"num_unique_values\": 8,\n        \"samples\": [\n          3.360864339424991e-17,\n          -0.29371304745048626\n        ],\n        \"semantic_type\": \"\",\n        \"description\": \"\"\n      }\n    }\n  ]\n}"
            }
          },
          "metadata": {},
          "execution_count": 246
        }
      ]
    },
    {
      "cell_type": "code",
      "source": [
        "numeric_cols = df_new.select_dtypes(include=['float64', 'int64'])  # Menyaring kolom numerik\n",
        "\n",
        "# Inisialisasi KMeans\n",
        "kmeans = KMeans(random_state=42)\n",
        "\n",
        "# Tentukan visualizer dengan rentang jumlah cluster antara 1 hingga 10\n",
        "visualizer = KElbowVisualizer(kmeans, k=(1, 10))\n",
        "\n",
        "# Melatih visualizer hanya pada data numerik\n",
        "visualizer.fit(numeric_cols)\n",
        "\n",
        "# Menampilkan plot Elbow\n",
        "visualizer.show()"
      ],
      "metadata": {
        "id": "hgYvwWOzM93L",
        "colab": {
          "base_uri": "https://localhost:8080/",
          "height": 541
        },
        "outputId": "ad904584-38a2-4b73-8481-22a9b4eb3378"
      },
      "execution_count": 247,
      "outputs": [
        {
          "output_type": "display_data",
          "data": {
            "text/plain": [
              "<Figure size 800x550 with 2 Axes>"
            ],
            "image/png": "[encoded data removed]"
          },
          "metadata": {}
        },
        {
          "output_type": "execute_result",
          "data": {
            "text/plain": [
              "<Axes: title={'center': 'Distortion Score Elbow for KMeans Clustering'}, xlabel='k', ylabel='distortion score'>"
            ]
          },
          "metadata": {},
          "execution_count": 247
        }
      ]
    },
    {
      "cell_type": "code",
      "source": [
        "# Mendapatkan kolom numerik\n",
        "numeric_cols = df_new.select_dtypes(include=['float64', 'int64']).columns.tolist()\n",
        "\n",
        "# Inisialisasi model KMeans dengan 3 cluster\n",
        "kmeans = KMeans(n_clusters=2, random_state=42)\n",
        "\n",
        "# Latih model KMeans pada data numerik\n",
        "kmeans.fit(df_new[numeric_cols])\n",
        "\n",
        "# Tambahkan hasil cluster ke DataFrame\n",
        "df_new['Cluster'] = kmeans.labels_\n",
        "\n",
        "# Agregasi statistik fitur numerik berdasarkan cluster\n",
        "aggregation_numerik = df_new.groupby('Cluster')[numeric_cols].agg(['mean', 'min', 'max'])\n",
        "\n",
        "# Menampilkan agregasi numerik\n",
        "print(\"Agregasi Fitur Numerik:\")\n",
        "print(aggregation_numerik)\n",
        "\n",
        "# Ambil kolom kategorikal sebelum One-Hot Encoding\n",
        "categorical_cols = df_new.select_dtypes(include=['object', 'category']).columns.tolist()"
      ],
      "metadata": {
        "id": "HvngRg-r4EcL",
        "colab": {
          "base_uri": "https://localhost:8080/"
        },
        "outputId": "bd27c28e-ad9e-429e-bdab-c9983409845d"
      },
      "execution_count": 248,
      "outputs": [
        {
          "output_type": "stream",
          "name": "stdout",
          "text": [
            "Agregasi Fitur Numerik:\n",
            "        TransactionDuration                     LoginAttempts            \\\n",
            "                       mean       min       max          mean  min  max   \n",
            "Cluster                                                                   \n",
            "0                  0.003490 -1.568628  2.591547           0.0  0.0  0.0   \n",
            "1                 -0.003348 -1.568628  2.577201           0.0  0.0  0.0   \n",
            "\n",
            "        AccountBalance                     CustomerAge              \\\n",
            "                  mean       min       max        mean   min   max   \n",
            "Cluster                                                              \n",
            "0            -0.260133 -1.291892  2.545681   28.718196  18.0  44.0   \n",
            "1             0.249487 -1.286826  2.536598   59.989961  45.0  80.0   \n",
            "\n",
            "        TransactionAmount                      \n",
            "                     mean       min       max  \n",
            "Cluster                                        \n",
            "0                0.027305 -1.019639  5.578858  \n",
            "1               -0.026187 -1.017644  5.275936  \n"
          ]
        }
      ]
    },
    {
      "cell_type": "markdown",
      "source": [
        "Jalankan cell code ini untuk menyimpan model kamu."
      ],
      "metadata": {
        "id": "6aVHlHyU1Dcx"
      }
    },
    {
      "cell_type": "code",
      "source": [
        "joblib.dump(kmeans, \"model_clustering.h5\")"
      ],
      "metadata": {
        "id": "D7AvYmQnY_fI",
        "colab": {
          "base_uri": "https://localhost:8080/"
        },
        "outputId": "9df8e45c-fcca-4b57-ce5f-61193b0643a4"
      },
      "execution_count": 249,
      "outputs": [
        {
          "output_type": "execute_result",
          "data": {
            "text/plain": [
              "['model_clustering.h5']"
            ]
          },
          "metadata": {},
          "execution_count": 249
        }
      ]
    },
    {
      "cell_type": "markdown",
      "source": [
        "(Opsional) Membangun Model Clustering [Skilled]\n",
        "\n",
        "**Biarkan kosong jika tidak menerapkan kriteria skilled**"
      ],
      "metadata": {
        "id": "YDOD9eVMx3mC"
      }
    },
    {
      "cell_type": "code",
      "source": [
        "# Pilih kolom numerik yang sudah distandarisasi\n",
        "numeric_cols = df_new.select_dtypes(include=['float64', 'int64']).columns.tolist()\n",
        "scaled_features = df_new[numeric_cols] # Gunakan data yang sudah distandarisasi\n",
        "\n",
        "kmeans = KMeans(n_clusters=2, random_state=42, n_init=10)\n",
        "\n",
        "# Latih model KMeans pada data yang sudah distandarisasi\n",
        "kmeans.fit(scaled_features)\n",
        "\n",
        "# Ambil label cluster hasil clustering\n",
        "cluster_labels = kmeans.labels_\n",
        "\n",
        "# Hitung Silhouette Score\n",
        "score = silhouette_score(scaled_features, cluster_labels)\n",
        "\n",
        "print(f\"Silhouette Score: {score}\")"
      ],
      "metadata": {
        "id": "SELNsH5O4Oyn",
        "colab": {
          "base_uri": "https://localhost:8080/"
        },
        "outputId": "eaa3bd10-51ef-4c78-81b4-cb9b9d66f0e2"
      },
      "execution_count": 250,
      "outputs": [
        {
          "output_type": "stream",
          "name": "stdout",
          "text": [
            "Silhouette Score: 0.6447775889160497\n"
          ]
        }
      ]
    },
    {
      "cell_type": "code",
      "source": [
        "# Menggunakan PCA untuk mereduksi dimensi (menjadi 2D untuk visualisasi)\n",
        "pca = PCA(n_components=2)\n",
        "pca_result = pca.fit_transform(scaled_features)\n",
        "\n",
        "# Visualisasi Hasil Clustering dengan dua fitur PCA hasil reduksi\n",
        "plt.figure(figsize=(8, 6))\n",
        "plt.scatter(pca_result[:, 0], pca_result[:, 1], c=cluster_labels, cmap='viridis', s=50)\n",
        "plt.title('Visualisasi Hasil Clustering dengan PCA')\n",
        "plt.xlabel('PCA Component 1')\n",
        "plt.ylabel('PCA Component 2')\n",
        "plt.colorbar(label='Cluster Label')\n",
        "plt.show()"
      ],
      "metadata": {
        "id": "K4EbkaXg4QAN",
        "colab": {
          "base_uri": "https://localhost:8080/",
          "height": 562
        },
        "outputId": "83872b69-b94d-4a89-ec17-ab214e2f07e5"
      },
      "execution_count": 251,
      "outputs": [
        {
          "output_type": "display_data",
          "data": {
            "text/plain": [
              "<Figure size 800x600 with 2 Axes>"
            ],
            "image/png": "[encoded data removed]"
          },
          "metadata": {}
        }
      ]
    },
    {
      "cell_type": "markdown",
      "source": [
        "(Opsional) Membangun Model Clustering [Advanced]\n",
        "\n",
        "**Biarkan kosong jika tidak menerapkan kriteria advanced**"
      ],
      "metadata": {
        "id": "uloMRbnsyAbB"
      }
    },
    {
      "cell_type": "code",
      "source": [
        "# Simpan model PCA sebagai perbandingan dengan menjalankan cell code ini joblib.dump(model,\"PCA_model_clustering.h5\")\n",
        "# joblib.dump(___, \"PCA_model_clustering.h5\")\n",
        "joblib.dump(pca, \"PCA_model_clustering.h5\")"
      ],
      "metadata": {
        "id": "uKvJy9Ky4VB3",
        "colab": {
          "base_uri": "https://localhost:8080/"
        },
        "outputId": "77ea083a-3212-40a5-d550-00a18f86f5a4"
      },
      "execution_count": 252,
      "outputs": [
        {
          "output_type": "execute_result",
          "data": {
            "text/plain": [
              "['PCA_model_clustering.h5']"
            ]
          },
          "metadata": {},
          "execution_count": 252
        }
      ]
    },
    {
      "cell_type": "markdown",
      "source": [
        "# **5. Interpretasi Cluster**"
      ],
      "metadata": {
        "id": "anlTI9Trb7F6"
      }
    },
    {
      "cell_type": "markdown",
      "source": [
        "## **a. Interpretasi Hasil Clustering**\n",
        "1. **Contoh Interpretasi:**\n",
        "- **Cluster 1: (Nasabah Bertransaksi dan Pendapatan Besar)**:\n",
        "  - **Rata-rata (mean) Annual Income:** 0.953 (48,260)\n",
        "  - **Rata-rata (mean) Spending Score:** 0.8 (56.48)\n",
        "  - **Analisis:** Cluster ini mencakup pelanggan dengan pendapatan tahunan tinggi dan tingkat pengeluaran yang cukup tinggi. Pelanggan dalam cluster ini cenderung memiliki daya beli yang tinggi dan mereka lebih cenderung untuk membelanjakan sebagian besar pendapatan mereka. Sehingga rekomendasi pada kelompok nasabah ini adalah dengan menawarkan produk-produk investasi atau perbankan yang berkualitas tinggi.\n"
      ],
      "metadata": {
        "id": "JfgVMEBDS3KG"
      }
    },
    {
      "cell_type": "code",
      "source": [
        "# Menampilkan analisis deskriptif minimal mean untuk fitur numerik dan modus untuk fitur kategorikal.\n",
        "# Silakan menambahkan fungsi agregasi lainnya untuk experience lebih baik.\n",
        "\n",
        "# Menambahkan hasil cluster ke DataFrame\n",
        "df_new['Cluster'] = cluster_labels\n",
        "\n",
        "# Agregasi statistik untuk fitur numerik\n",
        "numeric_features = ['TransactionAmount', 'CustomerAge', 'TransactionDuration', 'AccountBalance']\n",
        "numeric_agg = df_new.groupby('Cluster')[numeric_features].agg(\n",
        "    ['min', 'max', 'mean', 'median', 'std', lambda x: x.quantile(0.25), lambda x: x.quantile(0.75)]\n",
        ")\n",
        "\n",
        "# Agregasi statistik untuk fitur kategorikal\n",
        "categorical_features = df_new.select_dtypes(include=['object', 'category']).columns.tolist()\n",
        "\n",
        "# Untuk kategori, kita hitung modus dan jumlah kategori yang muncul\n",
        "categorical_agg = df_new.groupby('Cluster')[categorical_features].agg(\n",
        "    lambda x: x.mode()[0] if not x.mode().empty else None\n",
        ")\n",
        "\n",
        "# Menampilkan agregasi untuk fitur numerik\n",
        "print(\"Agregasi Fitur Numerik per Cluster:\")\n",
        "print(numeric_agg)\n",
        "\n",
        "# Menampilkan agregasi untuk fitur kategorikal\n",
        "print(\"\\nAgregasi Fitur Kategorikal per Cluster:\")\n",
        "print(categorical_agg)"
      ],
      "metadata": {
        "id": "Qmpy4fmV64Mi",
        "colab": {
          "base_uri": "https://localhost:8080/"
        },
        "outputId": "972640cb-a2ab-4a1d-a573-7cb01f6df672"
      },
      "execution_count": 253,
      "outputs": [
        {
          "output_type": "stream",
          "name": "stdout",
          "text": [
            "Agregasi Fitur Numerik per Cluster:\n",
            "        TransactionAmount                                                     \\\n",
            "                      min       max      mean    median       std <lambda_0>   \n",
            "Cluster                                                                        \n",
            "0               -1.019639  5.578858  0.027305 -0.290395  1.020154  -0.725692   \n",
            "1               -1.017644  5.275936 -0.026187 -0.293713  0.980356  -0.746170   \n",
            "\n",
            "                   CustomerAge                   ... TransactionDuration  \\\n",
            "        <lambda_1>         min   max       mean  ...                 std   \n",
            "Cluster                                          ...                       \n",
            "0         0.438686        18.0  44.0  28.718196  ...            1.032400   \n",
            "1         0.317289        45.0  80.0  59.989961  ...            0.968695   \n",
            "\n",
            "                              AccountBalance                                \\\n",
            "        <lambda_0> <lambda_1>            min       max      mean    median   \n",
            "Cluster                                                                      \n",
            "0        -0.837011   0.597532      -1.291892  2.545681 -0.260133 -0.842689   \n",
            "1        -0.793975   0.597532      -1.286826  2.536598  0.249487  0.195173   \n",
            "\n",
            "                                         \n",
            "              std <lambda_0> <lambda_1>  \n",
            "Cluster                                  \n",
            "0        1.021638  -1.080328   0.485335  \n",
            "1        0.912333  -0.485649   0.732692  \n",
            "\n",
            "[2 rows x 28 columns]\n",
            "\n",
            "Agregasi Fitur Kategorikal per Cluster:\n",
            "Empty DataFrame\n",
            "Columns: []\n",
            "Index: [0, 1]\n"
          ]
        }
      ]
    },
    {
      "cell_type": "markdown",
      "source": [
        "## Menjelaskan karakteristik tiap cluster berdasarkan rentangnya.\n",
        "\n",
        "1. **Cluster 0: Nasabah dengan Transaksi Tinggi (High) dan Usia Muda (Young)**:\n",
        "  - **Rata-rata (mean) <Fitur>:**\n",
        "    *   TransactionAmount: 0.168224\n",
        "    *   CustomerAge: -0.940818\n",
        "    *   TransactionDuration: -0.509561\n",
        "    *   AccountBalance: -0.803814\n",
        "  - **Analisis:** Dalam Cluster ini mencakup nasabah yang memiliki transaksi yang lebih tinggi dibandingkan dengan cluster lainnya, dengan rata-rata usia yang relatif muda. Durasi transaksi mereka sedikit lebih tinggi daripada cluster lainnya, namun saldo mereka cenderung lebih rendah. Hal ini menunjukkan bahwa nasabah pada cluster ini mungkin lebih aktif dalam bertransaksi, tetapi dengan saldo yang tidak terlalu besar, yang dapat menunjukkan penggunaan transaksi yang lebih sering dalam jumlah yang lebih kecil.\n",
        "\n",
        "2. **Cluster 1: Nasabah dengan Transaksi Sedang (Mid) dan Usia Dewasa (Middle)**:\n",
        "  - **Rata-rata (mean) <Fitur>:**\n",
        "    *   TransactionAmount: -0.182399\n",
        "    *   CustomerAge: 0.588704\n",
        "    *   TransactionDuration: -0.380118\n",
        "    *   AccountBalance: 0.639022\n",
        "  - **Analisis:** Dalam cluster ini mencakup nasabah memiliki transaksi yang sedang dan usia yang lebih dewasa dibandingkan dengan cluster lainnya. Durasi transaksi mereka sedikit lebih panjang, menunjukkan bahwa mereka mungkin lebih berhati-hati atau melakukan transaksi yang lebih kompleks. Selain itu, saldo mereka rata-rata lebih tinggi, yang mengindikasikan kemampuan finansial yang lebih besar untuk melakukan transaksi dalam jumlah yang lebih besar\n",
        "\n",
        "3. **Cluster 2: Nasabah dengan Transaksi Rendah (Low) dan Usia Lebih Tua (Old)**:\n",
        "  - **Rata-rata (mean) <Fitur>:**\n",
        "    *   TransactionAmount: 0.089585\n",
        "    *   CustomerAge: -0.096380\n",
        "    *   TransactionDuration: 1.330526\n",
        "    *   AccountBalance: -0.021019\n",
        "  - **Analisis:** Dalam cluster ini mencakup nasabah yang lebih tua dengan transaksi yang relatif lebih rendah dibandingkan dengan cluster lainnya. Durasi transaksi mereka hampir sama dengan cluster lainnya, tetapi mereka memiliki saldo rata-rata yang lebih tinggi. Ini bisa menunjukkan bahwa meskipun nasabah ini tidak sering melakukan transaksi, mereka memiliki saldo yang cukup besar dan lebih jarang melakukan transaksi dalam jumlah besar."
      ],
      "metadata": {
        "id": "KrjMI_dG6tnb"
      }
    },
    {
      "cell_type": "markdown",
      "source": [
        "# **6. Mengeksport Data**\n",
        "\n",
        "1. Simpan nama kolom hasil clustering dengan nama `Target`.\n",
        "2. Simpan hasilnya ke dalam file CSV menggunakan function `to_csv()`."
      ],
      "metadata": {
        "id": "jaYP1fx5VgWO"
      }
    },
    {
      "cell_type": "code",
      "source": [
        "# Pastikan nama kolom clustering sudah diubah menjadi Target\n",
        "df_new['Target'] = cluster_labels"
      ],
      "metadata": {
        "id": "3FInN10U5S4f"
      },
      "execution_count": 254,
      "outputs": []
    },
    {
      "cell_type": "code",
      "source": [
        "# Simpan Data\n",
        "# ___.to_csv('data_clustering.csv', index=False)\n",
        "df_new.to_csv('data_clustering.csv', index=False)"
      ],
      "metadata": {
        "id": "fkbg_o80aRSH"
      },
      "execution_count": 255,
      "outputs": []
    },
    {
      "cell_type": "markdown",
      "source": [
        "(Opsional) Interpretasi Hasil Clustering [Skilled]\n",
        "\n",
        "**Biarkan kosong jika tidak menerapkan kriteria skilled**"
      ],
      "metadata": {
        "id": "rz1vFc2yzFPD"
      }
    },
    {
      "cell_type": "code",
      "source": [
        "# Scaling data pada fitur numerik\n",
        "features = ['TransactionAmount', 'CustomerAge', 'TransactionDuration', 'AccountBalance','LoginAttempts']\n",
        "\n",
        "# Melakukan inverse transform pada data hasil scaling\n",
        "inverse_scaled_data = scaler.inverse_transform(df_new[features])\n",
        "\n",
        "# Membuat DataFrame hasil inverse transform\n",
        "df_new = pd.DataFrame(inverse_scaled_data, columns=features)\n",
        "\n",
        "# Membulatkan nilai dalam DataFrame menjadi satu angka di belakang koma\n",
        "df_new = df_new.round(1)\n",
        "\n",
        "# Menampilkan beberapa baris pertama dari DataFrame hasil inverse transform\n",
        "print(df_new.head())"
      ],
      "metadata": {
        "id": "OMcRV15y_hH3",
        "colab": {
          "base_uri": "https://localhost:8080/"
        },
        "outputId": "a2a43928-1710-4ae9-912d-575ace8c0681"
      },
      "execution_count": 256,
      "outputs": [
        {
          "output_type": "stream",
          "name": "stdout",
          "text": [
            "   TransactionAmount  CustomerAge  TransactionDuration  AccountBalance  \\\n",
            "0               51.6         71.0               2976.9           297.0   \n",
            "1              138.4         69.0               6313.6           945.6   \n",
            "2               78.5         20.0               1586.6            -2.3   \n",
            "3               92.4         27.0               -137.4           556.3   \n",
            "4               51.4         46.0               9483.4           470.8   \n",
            "\n",
            "   LoginAttempts  \n",
            "0         5109.4  \n",
            "1         5109.4  \n",
            "2         5109.4  \n",
            "3         5109.4  \n",
            "4         5109.4  \n"
          ]
        }
      ]
    },
    {
      "cell_type": "markdown",
      "source": [
        "## Menjelaskan karakteristik tiap cluster berdasarkan rentangnya setelah inverse.\n",
        "1. **Cluster 0: Nasabah dengan Transaksi Rendah (Low) dan Usia Tua (Old)**:\n",
        "  - **Rata-rata (mean) <Fitur>:**\n",
        "      *   TransactionAmount: 14.09\n",
        "      *   CustomerAge: 70.0\n",
        "      *   TransactionDuration: 81.0\n",
        "      *   AccountBalance: 5112.21\n",
        "  - **Analisis:** Dalam cluster ini mencakup nasabah yang berusia lebih tua dengan transaksi yang relatif rendah. Meskipun saldo mereka lebih tinggi, durasi transaksi mereka lebih lama. Hal ini menunjukkan bahwa nasabah di cluster ini mungkin melakukan transaksi dalam jumlah kecil namun lebih berhati-hati dan memerlukan waktu lebih lama untuk menyelesaikan transaksi\n",
        "\n",
        "2. **Cluster 1: Nasabah dengan Pengeluaran diatas Rata-rata(High) dan Usia Menengah(Middle)**:\n",
        "  - **Rata-rata (mean) <Fitur>:**\n",
        "      *   TransactionAmount: 376.24\n",
        "      *   CustomerAge: 68.0\n",
        "      *   TransactionDuration: 141.0\n",
        "      *   AccountBalance: 13758.91\n",
        "  - **Analisis:** Dalam cluster ini berisi nasabah yang memiliki transaksi lebih tinggi dibandingkan dengan cluster lainnya. Mereka juga memiliki usia yang relatif lebih tua dibandingkan dengan Cluster 0, dan saldo mereka lebih tinggi. Durasi transaksi mereka lebih panjang, yang bisa menunjukkan bahwa mereka lebih berhati-hati atau lebih cermat dalam melakukan transaksi besar\n",
        "\n",
        "3. **Cluster 2: Nasabah dengan Transaksi Sedang (Mid) dan Usia Muda (Young)**:\n",
        "  - **Rata-rata (mean) <Fitur>:**\n",
        "      *   TransactionAmount: 126.29\n",
        "      *   CustomerAge: 19.0\n",
        "      *   TransactionDuration: 56.0\n",
        "      *   AccountBalance: 1122.35\n",
        "  - **Analisis:** Dalam cluster ini berisi nasabah yang lebih muda dengan transaksi yang lebih rendah dari rata-rata. Mereka memiliki durasi transaksi yang lebih singkat dibandingkan dengan cluster lainnya. Saldo mereka lebih rendah, yang mengindikasikan bahwa meskipun mereka mungkin lebih sering melakukan transaksi, nilai transaksi mereka cenderung lebih kecil\n",
        "\n",
        "4. **Cluster 3: Nasabah Pengeluaran Sedang(Mid) dengan Usia Menengah(Middle)**:\n",
        "  - **Rata-rata (mean) <Fitur>:**\n",
        "      *   TransactionAmount: 184.50\n",
        "      *   CustomerAge: 26.0\n",
        "      *   TransactionDuration: 25.0\n",
        "      *   AccountBalance: 8569.06\n",
        "  - **Analisis:** Dalam cluster ini berisi nasabah memiliki transaksi yang relatif sedang, dengan usia yang masih muda namun lebih tua dibandingkan dengan Cluster 2. Mereka memiliki saldo yang lebih tinggi dan melakukan transaksi dengan durasi yang lebih singkat. Ini menunjukkan bahwa nasabah dalam cluster ini cenderung lebih cepat dalam melakukan transaksi dengan jumlah yang sedang dan saldo yang cukup besar\n",
        "\n",
        "5. **Cluster 4: Nasabah Pengeluaran Sangat Rendah(Low) dan Tengah-tengah(Middle)**:\n",
        "  - **Rata-rata (mean) <Fitur>:**\n",
        "      *   TransactionAmount: 13.45\n",
        "      *   CustomerAge: 45.0\n",
        "      *   TransactionDuration: 198.0\n",
        "      *   AccountBalance: 7429.40\n",
        "  - **Analisis:** Dalam cluster ini berisi nasabah dengan usia menengah yang melakukan transaksi dengan jumlah rendah. Mereka memiliki saldo rata-rata yang cukup besar, namun durasi transaksi mereka lebih lama dibandingkan dengan cluster lainnya. Hal ini mungkin menunjukkan bahwa nasabah pada cluster ini lebih berhati-hati dalam bertransaksi, meskipun memiliki saldo yang cukup besar\n"
      ],
      "metadata": {
        "id": "WcaT8sxVzLs6"
      }
    },
    {
      "cell_type": "markdown",
      "source": [
        "(Opsional) Interpretasi Hasil Clustering [Advanced]\n",
        "\n",
        "**Biarkan kosong jika tidak menerapkan kriteria advanced**"
      ],
      "metadata": {
        "id": "jSd6vZslzatv"
      }
    },
    {
      "cell_type": "code",
      "source": [
        "# Tambahkan kolom 'Cluster' ke dalam DataFrame df_new\n",
        "df['Cluster'] = cluster_labels\n",
        "\n",
        "# Tampilkan beberapa baris pertama dari DataFrame df_new setelah menambahkan kolom Cluster\n",
        "print(df.head())"
      ],
      "metadata": {
        "id": "4mGIyUZ2zRCP",
        "colab": {
          "base_uri": "https://localhost:8080/"
        },
        "outputId": "469d4929-d15e-40f3-e491-29f93649c4dc"
      },
      "execution_count": 259,
      "outputs": [
        {
          "output_type": "stream",
          "name": "stdout",
          "text": [
            "  TransactionID AccountID  TransactionAmount      TransactionDate  \\\n",
            "0      TX000001   AC00128              14.09  2023-04-11 16:29:14   \n",
            "1      TX000002   AC00455             376.24  2023-06-27 16:44:19   \n",
            "2      TX000003   AC00019             126.29  2023-07-10 18:16:08   \n",
            "3      TX000004   AC00070             184.50  2023-05-05 16:32:11   \n",
            "4      TX000005   AC00411              13.45  2023-10-16 17:51:24   \n",
            "\n",
            "  TransactionType   Location DeviceID      IP Address MerchantID Channel  \\\n",
            "0           Debit  San Diego  D000380  162.198.218.92       M015     ATM   \n",
            "1           Debit    Houston  D000051     13.149.61.4       M052     ATM   \n",
            "2           Debit       Mesa  D000235  215.97.143.157       M009  Online   \n",
            "3           Debit    Raleigh  D000187  200.13.225.150       M002  Online   \n",
            "4          Credit    Atlanta  D000308    65.164.3.100       M091  Online   \n",
            "\n",
            "   CustomerAge CustomerOccupation  TransactionDuration  LoginAttempts  \\\n",
            "0         70.0             Doctor                 81.0            1.0   \n",
            "1         68.0             Doctor                141.0            1.0   \n",
            "2         19.0            Student                 56.0            1.0   \n",
            "3         26.0            Student                 25.0            1.0   \n",
            "4         45.0            Student                198.0            1.0   \n",
            "\n",
            "   AccountBalance PreviousTransactionDate  Cluster  \n",
            "0         5112.21     2024-11-04 08:08:08        1  \n",
            "1        13758.91     2024-11-04 08:09:35        1  \n",
            "2         1122.35     2024-11-04 08:07:04        0  \n",
            "3         8569.06     2024-11-04 08:09:06        0  \n",
            "4         7429.40     2024-11-04 08:06:39        1  \n"
          ]
        }
      ]
    },
    {
      "cell_type": "code",
      "source": [
        "df.info()"
      ],
      "metadata": {
        "colab": {
          "base_uri": "https://localhost:8080/"
        },
        "id": "beSQHQJ0Jdvg",
        "outputId": "afb3e1ae-870a-4b0b-8db7-6ee183096a8a"
      },
      "execution_count": 261,
      "outputs": [
        {
          "output_type": "stream",
          "name": "stdout",
          "text": [
            "<class 'pandas.core.frame.DataFrame'>\n",
            "RangeIndex: 2537 entries, 0 to 2536\n",
            "Data columns (total 17 columns):\n",
            " #   Column                   Non-Null Count  Dtype  \n",
            "---  ------                   --------------  -----  \n",
            " 0   TransactionID            2508 non-null   object \n",
            " 1   AccountID                2516 non-null   object \n",
            " 2   TransactionAmount        2537 non-null   float64\n",
            " 3   TransactionDate          2509 non-null   object \n",
            " 4   TransactionType          2507 non-null   object \n",
            " 5   Location                 2507 non-null   object \n",
            " 6   DeviceID                 2507 non-null   object \n",
            " 7   IP Address               2517 non-null   object \n",
            " 8   MerchantID               2514 non-null   object \n",
            " 9   Channel                  2510 non-null   object \n",
            " 10  CustomerAge              2537 non-null   float64\n",
            " 11  CustomerOccupation       2514 non-null   object \n",
            " 12  TransactionDuration      2537 non-null   float64\n",
            " 13  LoginAttempts            2537 non-null   float64\n",
            " 14  AccountBalance           2537 non-null   float64\n",
            " 15  PreviousTransactionDate  2513 non-null   object \n",
            " 16  Cluster                  2537 non-null   int32  \n",
            "dtypes: float64(5), int32(1), object(11)\n",
            "memory usage: 327.2+ KB\n"
          ]
        }
      ]
    },
    {
      "cell_type": "code",
      "source": [
        "# Simpan Data\n",
        "# ___.to_csv('data_clustering_inverse.csv', index=False)\n",
        "df.to_csv('data_clustering_inverse.csv', index=False)"
      ],
      "metadata": {
        "id": "BEASz_Q__jms"
      },
      "execution_count": 262,
      "outputs": []
    }
  ]
}